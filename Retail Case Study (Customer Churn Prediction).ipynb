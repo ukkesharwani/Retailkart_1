{
 "cells": [
  {
   "cell_type": "markdown",
   "id": "9b7ff565",
   "metadata": {},
   "source": [
    "## Step 1: Importing Data"
   ]
  },
  {
   "cell_type": "code",
   "execution_count": 1,
   "id": "d39d3f23",
   "metadata": {},
   "outputs": [],
   "source": [
    "# Suppressing Warnings\n",
    "import warnings\n",
    "warnings.filterwarnings(\"ignore\")"
   ]
  },
  {
   "cell_type": "code",
   "execution_count": 2,
   "id": "c10c0e52",
   "metadata": {},
   "outputs": [],
   "source": [
    "# Importing important libraries\n",
    "import matplotlib.pyplot as plt\n",
    "%matplotlib inline\n",
    "import seaborn as sns\n",
    "import pandas as pd,numpy as np"
   ]
  },
  {
   "cell_type": "code",
   "execution_count": 3,
   "id": "2fc15ac3",
   "metadata": {
    "scrolled": true
   },
   "outputs": [
    {
     "data": {
      "text/html": [
       "<div>\n",
       "<style scoped>\n",
       "    .dataframe tbody tr th:only-of-type {\n",
       "        vertical-align: middle;\n",
       "    }\n",
       "\n",
       "    .dataframe tbody tr th {\n",
       "        vertical-align: top;\n",
       "    }\n",
       "\n",
       "    .dataframe thead th {\n",
       "        text-align: right;\n",
       "    }\n",
       "</style>\n",
       "<table border=\"1\" class=\"dataframe\">\n",
       "  <thead>\n",
       "    <tr style=\"text-align: right;\">\n",
       "      <th></th>\n",
       "      <th>CustomerID</th>\n",
       "      <th>Churn</th>\n",
       "      <th>Tenure</th>\n",
       "      <th>PreferredLoginDevice</th>\n",
       "      <th>CityTier</th>\n",
       "      <th>WarehouseToHome</th>\n",
       "      <th>PreferredPaymentMode</th>\n",
       "      <th>Gender</th>\n",
       "      <th>HourSpendOnApp</th>\n",
       "      <th>NumberOfDeviceRegistered</th>\n",
       "      <th>PreferedOrderCat</th>\n",
       "      <th>SatisfactionScore</th>\n",
       "      <th>MaritalStatus</th>\n",
       "      <th>NumberOfAddress</th>\n",
       "      <th>Complain</th>\n",
       "      <th>OrderAmountHikeFromlastYear</th>\n",
       "      <th>CouponUsed</th>\n",
       "      <th>OrderCount</th>\n",
       "      <th>DaySinceLastOrder</th>\n",
       "      <th>CashbackAmount</th>\n",
       "    </tr>\n",
       "  </thead>\n",
       "  <tbody>\n",
       "    <tr>\n",
       "      <th>0</th>\n",
       "      <td>50001</td>\n",
       "      <td>1</td>\n",
       "      <td>4.0</td>\n",
       "      <td>Mobile Phone</td>\n",
       "      <td>3</td>\n",
       "      <td>6.0</td>\n",
       "      <td>Debit Card</td>\n",
       "      <td>Female</td>\n",
       "      <td>3.0</td>\n",
       "      <td>3</td>\n",
       "      <td>Laptop &amp; Accessory</td>\n",
       "      <td>2</td>\n",
       "      <td>Single</td>\n",
       "      <td>9</td>\n",
       "      <td>1</td>\n",
       "      <td>11.0</td>\n",
       "      <td>1.0</td>\n",
       "      <td>1.0</td>\n",
       "      <td>5.0</td>\n",
       "      <td>160</td>\n",
       "    </tr>\n",
       "    <tr>\n",
       "      <th>1</th>\n",
       "      <td>50002</td>\n",
       "      <td>1</td>\n",
       "      <td>NaN</td>\n",
       "      <td>Phone</td>\n",
       "      <td>1</td>\n",
       "      <td>8.0</td>\n",
       "      <td>UPI</td>\n",
       "      <td>Male</td>\n",
       "      <td>3.0</td>\n",
       "      <td>4</td>\n",
       "      <td>Mobile</td>\n",
       "      <td>3</td>\n",
       "      <td>Single</td>\n",
       "      <td>7</td>\n",
       "      <td>1</td>\n",
       "      <td>15.0</td>\n",
       "      <td>0.0</td>\n",
       "      <td>1.0</td>\n",
       "      <td>0.0</td>\n",
       "      <td>121</td>\n",
       "    </tr>\n",
       "    <tr>\n",
       "      <th>2</th>\n",
       "      <td>50003</td>\n",
       "      <td>1</td>\n",
       "      <td>NaN</td>\n",
       "      <td>Phone</td>\n",
       "      <td>1</td>\n",
       "      <td>30.0</td>\n",
       "      <td>Debit Card</td>\n",
       "      <td>Male</td>\n",
       "      <td>2.0</td>\n",
       "      <td>4</td>\n",
       "      <td>Mobile</td>\n",
       "      <td>3</td>\n",
       "      <td>Single</td>\n",
       "      <td>6</td>\n",
       "      <td>1</td>\n",
       "      <td>14.0</td>\n",
       "      <td>0.0</td>\n",
       "      <td>1.0</td>\n",
       "      <td>3.0</td>\n",
       "      <td>120</td>\n",
       "    </tr>\n",
       "    <tr>\n",
       "      <th>3</th>\n",
       "      <td>50004</td>\n",
       "      <td>1</td>\n",
       "      <td>0.0</td>\n",
       "      <td>Phone</td>\n",
       "      <td>3</td>\n",
       "      <td>15.0</td>\n",
       "      <td>Debit Card</td>\n",
       "      <td>Male</td>\n",
       "      <td>2.0</td>\n",
       "      <td>4</td>\n",
       "      <td>Laptop &amp; Accessory</td>\n",
       "      <td>5</td>\n",
       "      <td>Single</td>\n",
       "      <td>8</td>\n",
       "      <td>0</td>\n",
       "      <td>23.0</td>\n",
       "      <td>0.0</td>\n",
       "      <td>1.0</td>\n",
       "      <td>3.0</td>\n",
       "      <td>134</td>\n",
       "    </tr>\n",
       "    <tr>\n",
       "      <th>4</th>\n",
       "      <td>50005</td>\n",
       "      <td>1</td>\n",
       "      <td>0.0</td>\n",
       "      <td>Phone</td>\n",
       "      <td>1</td>\n",
       "      <td>12.0</td>\n",
       "      <td>CC</td>\n",
       "      <td>Male</td>\n",
       "      <td>NaN</td>\n",
       "      <td>3</td>\n",
       "      <td>Mobile</td>\n",
       "      <td>5</td>\n",
       "      <td>Single</td>\n",
       "      <td>3</td>\n",
       "      <td>0</td>\n",
       "      <td>11.0</td>\n",
       "      <td>1.0</td>\n",
       "      <td>1.0</td>\n",
       "      <td>3.0</td>\n",
       "      <td>130</td>\n",
       "    </tr>\n",
       "  </tbody>\n",
       "</table>\n",
       "</div>"
      ],
      "text/plain": [
       "   CustomerID  Churn  Tenure PreferredLoginDevice  CityTier  WarehouseToHome  \\\n",
       "0       50001      1     4.0         Mobile Phone         3              6.0   \n",
       "1       50002      1     NaN                Phone         1              8.0   \n",
       "2       50003      1     NaN                Phone         1             30.0   \n",
       "3       50004      1     0.0                Phone         3             15.0   \n",
       "4       50005      1     0.0                Phone         1             12.0   \n",
       "\n",
       "  PreferredPaymentMode  Gender  HourSpendOnApp  NumberOfDeviceRegistered  \\\n",
       "0           Debit Card  Female             3.0                         3   \n",
       "1                  UPI    Male             3.0                         4   \n",
       "2           Debit Card    Male             2.0                         4   \n",
       "3           Debit Card    Male             2.0                         4   \n",
       "4                   CC    Male             NaN                         3   \n",
       "\n",
       "     PreferedOrderCat  SatisfactionScore MaritalStatus  NumberOfAddress  \\\n",
       "0  Laptop & Accessory                  2        Single                9   \n",
       "1              Mobile                  3        Single                7   \n",
       "2              Mobile                  3        Single                6   \n",
       "3  Laptop & Accessory                  5        Single                8   \n",
       "4              Mobile                  5        Single                3   \n",
       "\n",
       "   Complain  OrderAmountHikeFromlastYear  CouponUsed  OrderCount  \\\n",
       "0         1                         11.0         1.0         1.0   \n",
       "1         1                         15.0         0.0         1.0   \n",
       "2         1                         14.0         0.0         1.0   \n",
       "3         0                         23.0         0.0         1.0   \n",
       "4         0                         11.0         1.0         1.0   \n",
       "\n",
       "   DaySinceLastOrder  CashbackAmount  \n",
       "0                5.0             160  \n",
       "1                0.0             121  \n",
       "2                3.0             120  \n",
       "3                3.0             134  \n",
       "4                3.0             130  "
      ]
     },
     "execution_count": 3,
     "metadata": {},
     "output_type": "execute_result"
    }
   ],
   "source": [
    "# Importing dataset\n",
    "user_app_df = pd.read_csv(\"User+App+Behaviour.csv\")\n",
    "user_app_df.head()"
   ]
  },
  {
   "cell_type": "markdown",
   "id": "5589d3dd",
   "metadata": {},
   "source": [
    "## Step 2: Inspecting the Dataframe"
   ]
  },
  {
   "cell_type": "code",
   "execution_count": 4,
   "id": "64af82e7",
   "metadata": {},
   "outputs": [
    {
     "data": {
      "text/plain": [
       "(5630, 20)"
      ]
     },
     "execution_count": 4,
     "metadata": {},
     "output_type": "execute_result"
    }
   ],
   "source": [
    "# Let's check the dimensions of the dataframe\n",
    "user_app_df.shape"
   ]
  },
  {
   "cell_type": "code",
   "execution_count": 5,
   "id": "297c89e3",
   "metadata": {},
   "outputs": [
    {
     "name": "stdout",
     "output_type": "stream",
     "text": [
      "<class 'pandas.core.frame.DataFrame'>\n",
      "RangeIndex: 5630 entries, 0 to 5629\n",
      "Data columns (total 20 columns):\n",
      " #   Column                       Non-Null Count  Dtype  \n",
      "---  ------                       --------------  -----  \n",
      " 0   CustomerID                   5630 non-null   int64  \n",
      " 1   Churn                        5630 non-null   int64  \n",
      " 2   Tenure                       5366 non-null   float64\n",
      " 3   PreferredLoginDevice         5630 non-null   object \n",
      " 4   CityTier                     5630 non-null   int64  \n",
      " 5   WarehouseToHome              5379 non-null   float64\n",
      " 6   PreferredPaymentMode         5630 non-null   object \n",
      " 7   Gender                       5630 non-null   object \n",
      " 8   HourSpendOnApp               5375 non-null   float64\n",
      " 9   NumberOfDeviceRegistered     5630 non-null   int64  \n",
      " 10  PreferedOrderCat             5630 non-null   object \n",
      " 11  SatisfactionScore            5630 non-null   int64  \n",
      " 12  MaritalStatus                5630 non-null   object \n",
      " 13  NumberOfAddress              5630 non-null   int64  \n",
      " 14  Complain                     5630 non-null   int64  \n",
      " 15  OrderAmountHikeFromlastYear  5365 non-null   float64\n",
      " 16  CouponUsed                   5374 non-null   float64\n",
      " 17  OrderCount                   5372 non-null   float64\n",
      " 18  DaySinceLastOrder            5323 non-null   float64\n",
      " 19  CashbackAmount               5630 non-null   int64  \n",
      "dtypes: float64(7), int64(8), object(5)\n",
      "memory usage: 879.8+ KB\n"
     ]
    }
   ],
   "source": [
    "# Let's see the type of each column\n",
    "user_app_df.info()"
   ]
  },
  {
   "cell_type": "markdown",
   "id": "4732f4c0",
   "metadata": {},
   "source": [
    "## Step 3: Data Preparation (Data Cleaning and Treatment)¶"
   ]
  },
  {
   "cell_type": "code",
   "execution_count": 6,
   "id": "3c5d0aff",
   "metadata": {},
   "outputs": [
    {
     "data": {
      "text/plain": [
       "CustomerID                     0.00\n",
       "Churn                          0.00\n",
       "Tenure                         4.69\n",
       "PreferredLoginDevice           0.00\n",
       "CityTier                       0.00\n",
       "WarehouseToHome                4.46\n",
       "PreferredPaymentMode           0.00\n",
       "Gender                         0.00\n",
       "HourSpendOnApp                 4.53\n",
       "NumberOfDeviceRegistered       0.00\n",
       "PreferedOrderCat               0.00\n",
       "SatisfactionScore              0.00\n",
       "MaritalStatus                  0.00\n",
       "NumberOfAddress                0.00\n",
       "Complain                       0.00\n",
       "OrderAmountHikeFromlastYear    4.71\n",
       "CouponUsed                     4.55\n",
       "OrderCount                     4.58\n",
       "DaySinceLastOrder              5.45\n",
       "CashbackAmount                 0.00\n",
       "dtype: float64"
      ]
     },
     "execution_count": 6,
     "metadata": {},
     "output_type": "execute_result"
    }
   ],
   "source": [
    "# Mising Data Percentage \n",
    "round(100*(user_app_df.isnull().sum())/len(user_app_df), 2)"
   ]
  },
  {
   "cell_type": "code",
   "execution_count": 7,
   "id": "e2c7e329",
   "metadata": {},
   "outputs": [
    {
     "data": {
      "text/plain": [
       "['Tenure',\n",
       " 'WarehouseToHome',\n",
       " 'HourSpendOnApp',\n",
       " 'OrderAmountHikeFromlastYear',\n",
       " 'CouponUsed',\n",
       " 'OrderCount',\n",
       " 'DaySinceLastOrder']"
      ]
     },
     "execution_count": 7,
     "metadata": {},
     "output_type": "execute_result"
    }
   ],
   "source": [
    "# Prepare list of Missing value coulmns\n",
    "missing_colms = user_app_df.columns[user_app_df.isnull().any()].tolist()\n",
    "missing_colms"
   ]
  },
  {
   "cell_type": "code",
   "execution_count": 8,
   "id": "b8d96f25",
   "metadata": {},
   "outputs": [],
   "source": [
    "# Calculate the Mean for each feature\n",
    "means_colms = user_app_df.mean()"
   ]
  },
  {
   "cell_type": "code",
   "execution_count": 9,
   "id": "1759e809",
   "metadata": {},
   "outputs": [],
   "source": [
    "# Replace Missing Values with Mean\n",
    "user_app_df[missing_colms] =user_app_df[missing_colms].fillna(means_colms)"
   ]
  },
  {
   "cell_type": "code",
   "execution_count": 10,
   "id": "ccb52123",
   "metadata": {},
   "outputs": [
    {
     "data": {
      "text/plain": [
       "CustomerID                     0.0\n",
       "Churn                          0.0\n",
       "Tenure                         0.0\n",
       "PreferredLoginDevice           0.0\n",
       "CityTier                       0.0\n",
       "WarehouseToHome                0.0\n",
       "PreferredPaymentMode           0.0\n",
       "Gender                         0.0\n",
       "HourSpendOnApp                 0.0\n",
       "NumberOfDeviceRegistered       0.0\n",
       "PreferedOrderCat               0.0\n",
       "SatisfactionScore              0.0\n",
       "MaritalStatus                  0.0\n",
       "NumberOfAddress                0.0\n",
       "Complain                       0.0\n",
       "OrderAmountHikeFromlastYear    0.0\n",
       "CouponUsed                     0.0\n",
       "OrderCount                     0.0\n",
       "DaySinceLastOrder              0.0\n",
       "CashbackAmount                 0.0\n",
       "dtype: float64"
      ]
     },
     "execution_count": 10,
     "metadata": {},
     "output_type": "execute_result"
    }
   ],
   "source": [
    "# Verify Mising Data Percentage \n",
    "round(100*(user_app_df.isnull().sum())/len(user_app_df), 2)"
   ]
  },
  {
   "cell_type": "code",
   "execution_count": 11,
   "id": "f7c37702",
   "metadata": {},
   "outputs": [
    {
     "data": {
      "text/plain": [
       "0"
      ]
     },
     "execution_count": 11,
     "metadata": {},
     "output_type": "execute_result"
    }
   ],
   "source": [
    "# let's find if we have duplicate rows.\n",
    "user_app_df.duplicated().sum()\n"
   ]
  },
  {
   "cell_type": "code",
   "execution_count": 12,
   "id": "067e366d",
   "metadata": {},
   "outputs": [],
   "source": [
    "# column \"CustomerID\" is just indicative of the ID number of the Cusomers hence can be dropped.\n",
    "\n",
    "user_app_df.drop([\"CustomerID\"], 1, inplace = True)"
   ]
  },
  {
   "cell_type": "markdown",
   "id": "b30dcbe9",
   "metadata": {},
   "source": [
    "### Outlier treatment:"
   ]
  },
  {
   "cell_type": "code",
   "execution_count": 13,
   "id": "7b0b29e4",
   "metadata": {},
   "outputs": [
    {
     "data": {
      "text/plain": [
       "['Tenure',\n",
       " 'WarehouseToHome',\n",
       " 'HourSpendOnApp',\n",
       " 'NumberOfDeviceRegistered',\n",
       " 'NumberOfAddress',\n",
       " 'OrderAmountHikeFromlastYear',\n",
       " 'CouponUsed',\n",
       " 'OrderCount',\n",
       " 'DaySinceLastOrder',\n",
       " 'CashbackAmount']"
      ]
     },
     "execution_count": 13,
     "metadata": {},
     "output_type": "execute_result"
    }
   ],
   "source": [
    "##Continuous features\n",
    "cont_cols= [i for i in user_app_df.columns if i not in ['Churn', 'CityTier','SatisfactionScore','PreferredLoginDevice','PreferredPaymentMode','MaritalStatus', 'Complain','Gender','PreferedOrderCat' ]]\n",
    "cont_cols"
   ]
  },
  {
   "cell_type": "code",
   "execution_count": 14,
   "id": "739bf5bd",
   "metadata": {
    "scrolled": true
   },
   "outputs": [
    {
     "data": {
      "text/html": [
       "<div>\n",
       "<style scoped>\n",
       "    .dataframe tbody tr th:only-of-type {\n",
       "        vertical-align: middle;\n",
       "    }\n",
       "\n",
       "    .dataframe tbody tr th {\n",
       "        vertical-align: top;\n",
       "    }\n",
       "\n",
       "    .dataframe thead th {\n",
       "        text-align: right;\n",
       "    }\n",
       "</style>\n",
       "<table border=\"1\" class=\"dataframe\">\n",
       "  <thead>\n",
       "    <tr style=\"text-align: right;\">\n",
       "      <th></th>\n",
       "      <th>Tenure</th>\n",
       "      <th>WarehouseToHome</th>\n",
       "      <th>HourSpendOnApp</th>\n",
       "      <th>NumberOfDeviceRegistered</th>\n",
       "      <th>NumberOfAddress</th>\n",
       "      <th>OrderAmountHikeFromlastYear</th>\n",
       "      <th>CouponUsed</th>\n",
       "      <th>OrderCount</th>\n",
       "      <th>DaySinceLastOrder</th>\n",
       "      <th>CashbackAmount</th>\n",
       "    </tr>\n",
       "  </thead>\n",
       "  <tbody>\n",
       "    <tr>\n",
       "      <th>count</th>\n",
       "      <td>5630.000000</td>\n",
       "      <td>5630.000000</td>\n",
       "      <td>5630.000000</td>\n",
       "      <td>5630.000000</td>\n",
       "      <td>5630.000000</td>\n",
       "      <td>5630.000000</td>\n",
       "      <td>5630.000000</td>\n",
       "      <td>5630.000000</td>\n",
       "      <td>5630.000000</td>\n",
       "      <td>5630.000000</td>\n",
       "    </tr>\n",
       "    <tr>\n",
       "      <th>mean</th>\n",
       "      <td>10.189899</td>\n",
       "      <td>15.639896</td>\n",
       "      <td>2.931535</td>\n",
       "      <td>3.688988</td>\n",
       "      <td>4.214032</td>\n",
       "      <td>15.707922</td>\n",
       "      <td>1.751023</td>\n",
       "      <td>3.008004</td>\n",
       "      <td>4.543491</td>\n",
       "      <td>177.221492</td>\n",
       "    </tr>\n",
       "    <tr>\n",
       "      <th>std</th>\n",
       "      <td>8.354164</td>\n",
       "      <td>8.339095</td>\n",
       "      <td>0.705384</td>\n",
       "      <td>1.023999</td>\n",
       "      <td>2.583586</td>\n",
       "      <td>3.587926</td>\n",
       "      <td>1.851038</td>\n",
       "      <td>2.871521</td>\n",
       "      <td>3.553382</td>\n",
       "      <td>49.193869</td>\n",
       "    </tr>\n",
       "    <tr>\n",
       "      <th>min</th>\n",
       "      <td>0.000000</td>\n",
       "      <td>5.000000</td>\n",
       "      <td>0.000000</td>\n",
       "      <td>1.000000</td>\n",
       "      <td>1.000000</td>\n",
       "      <td>11.000000</td>\n",
       "      <td>0.000000</td>\n",
       "      <td>1.000000</td>\n",
       "      <td>0.000000</td>\n",
       "      <td>0.000000</td>\n",
       "    </tr>\n",
       "    <tr>\n",
       "      <th>1%</th>\n",
       "      <td>0.000000</td>\n",
       "      <td>6.000000</td>\n",
       "      <td>2.000000</td>\n",
       "      <td>1.000000</td>\n",
       "      <td>1.000000</td>\n",
       "      <td>11.000000</td>\n",
       "      <td>0.000000</td>\n",
       "      <td>1.000000</td>\n",
       "      <td>0.000000</td>\n",
       "      <td>116.000000</td>\n",
       "    </tr>\n",
       "    <tr>\n",
       "      <th>10%</th>\n",
       "      <td>1.000000</td>\n",
       "      <td>7.000000</td>\n",
       "      <td>2.000000</td>\n",
       "      <td>3.000000</td>\n",
       "      <td>2.000000</td>\n",
       "      <td>12.000000</td>\n",
       "      <td>0.000000</td>\n",
       "      <td>1.000000</td>\n",
       "      <td>1.000000</td>\n",
       "      <td>127.000000</td>\n",
       "    </tr>\n",
       "    <tr>\n",
       "      <th>25%</th>\n",
       "      <td>3.000000</td>\n",
       "      <td>9.000000</td>\n",
       "      <td>2.000000</td>\n",
       "      <td>3.000000</td>\n",
       "      <td>2.000000</td>\n",
       "      <td>13.000000</td>\n",
       "      <td>1.000000</td>\n",
       "      <td>1.000000</td>\n",
       "      <td>2.000000</td>\n",
       "      <td>146.000000</td>\n",
       "    </tr>\n",
       "    <tr>\n",
       "      <th>50%</th>\n",
       "      <td>9.000000</td>\n",
       "      <td>14.000000</td>\n",
       "      <td>3.000000</td>\n",
       "      <td>4.000000</td>\n",
       "      <td>3.000000</td>\n",
       "      <td>15.000000</td>\n",
       "      <td>1.000000</td>\n",
       "      <td>2.000000</td>\n",
       "      <td>4.000000</td>\n",
       "      <td>163.000000</td>\n",
       "    </tr>\n",
       "    <tr>\n",
       "      <th>75%</th>\n",
       "      <td>15.000000</td>\n",
       "      <td>20.000000</td>\n",
       "      <td>3.000000</td>\n",
       "      <td>4.000000</td>\n",
       "      <td>6.000000</td>\n",
       "      <td>18.000000</td>\n",
       "      <td>2.000000</td>\n",
       "      <td>3.008004</td>\n",
       "      <td>7.000000</td>\n",
       "      <td>196.000000</td>\n",
       "    </tr>\n",
       "    <tr>\n",
       "      <th>90%</th>\n",
       "      <td>23.000000</td>\n",
       "      <td>30.000000</td>\n",
       "      <td>4.000000</td>\n",
       "      <td>5.000000</td>\n",
       "      <td>8.000000</td>\n",
       "      <td>21.000000</td>\n",
       "      <td>4.000000</td>\n",
       "      <td>7.000000</td>\n",
       "      <td>9.000000</td>\n",
       "      <td>260.000000</td>\n",
       "    </tr>\n",
       "    <tr>\n",
       "      <th>95%</th>\n",
       "      <td>27.000000</td>\n",
       "      <td>32.000000</td>\n",
       "      <td>4.000000</td>\n",
       "      <td>5.000000</td>\n",
       "      <td>10.000000</td>\n",
       "      <td>23.000000</td>\n",
       "      <td>6.000000</td>\n",
       "      <td>9.000000</td>\n",
       "      <td>11.000000</td>\n",
       "      <td>292.000000</td>\n",
       "    </tr>\n",
       "    <tr>\n",
       "      <th>99%</th>\n",
       "      <td>30.000000</td>\n",
       "      <td>35.000000</td>\n",
       "      <td>4.000000</td>\n",
       "      <td>6.000000</td>\n",
       "      <td>11.000000</td>\n",
       "      <td>25.000000</td>\n",
       "      <td>9.000000</td>\n",
       "      <td>14.000000</td>\n",
       "      <td>15.000000</td>\n",
       "      <td>318.710000</td>\n",
       "    </tr>\n",
       "    <tr>\n",
       "      <th>99.9%</th>\n",
       "      <td>31.000000</td>\n",
       "      <td>36.000000</td>\n",
       "      <td>4.000000</td>\n",
       "      <td>6.000000</td>\n",
       "      <td>11.000000</td>\n",
       "      <td>26.000000</td>\n",
       "      <td>14.000000</td>\n",
       "      <td>16.000000</td>\n",
       "      <td>18.000000</td>\n",
       "      <td>324.000000</td>\n",
       "    </tr>\n",
       "    <tr>\n",
       "      <th>max</th>\n",
       "      <td>61.000000</td>\n",
       "      <td>127.000000</td>\n",
       "      <td>5.000000</td>\n",
       "      <td>6.000000</td>\n",
       "      <td>22.000000</td>\n",
       "      <td>26.000000</td>\n",
       "      <td>16.000000</td>\n",
       "      <td>16.000000</td>\n",
       "      <td>46.000000</td>\n",
       "      <td>325.000000</td>\n",
       "    </tr>\n",
       "  </tbody>\n",
       "</table>\n",
       "</div>"
      ],
      "text/plain": [
       "            Tenure  WarehouseToHome  HourSpendOnApp  NumberOfDeviceRegistered  \\\n",
       "count  5630.000000      5630.000000     5630.000000               5630.000000   \n",
       "mean     10.189899        15.639896        2.931535                  3.688988   \n",
       "std       8.354164         8.339095        0.705384                  1.023999   \n",
       "min       0.000000         5.000000        0.000000                  1.000000   \n",
       "1%        0.000000         6.000000        2.000000                  1.000000   \n",
       "10%       1.000000         7.000000        2.000000                  3.000000   \n",
       "25%       3.000000         9.000000        2.000000                  3.000000   \n",
       "50%       9.000000        14.000000        3.000000                  4.000000   \n",
       "75%      15.000000        20.000000        3.000000                  4.000000   \n",
       "90%      23.000000        30.000000        4.000000                  5.000000   \n",
       "95%      27.000000        32.000000        4.000000                  5.000000   \n",
       "99%      30.000000        35.000000        4.000000                  6.000000   \n",
       "99.9%    31.000000        36.000000        4.000000                  6.000000   \n",
       "max      61.000000       127.000000        5.000000                  6.000000   \n",
       "\n",
       "       NumberOfAddress  OrderAmountHikeFromlastYear   CouponUsed   OrderCount  \\\n",
       "count      5630.000000                  5630.000000  5630.000000  5630.000000   \n",
       "mean          4.214032                    15.707922     1.751023     3.008004   \n",
       "std           2.583586                     3.587926     1.851038     2.871521   \n",
       "min           1.000000                    11.000000     0.000000     1.000000   \n",
       "1%            1.000000                    11.000000     0.000000     1.000000   \n",
       "10%           2.000000                    12.000000     0.000000     1.000000   \n",
       "25%           2.000000                    13.000000     1.000000     1.000000   \n",
       "50%           3.000000                    15.000000     1.000000     2.000000   \n",
       "75%           6.000000                    18.000000     2.000000     3.008004   \n",
       "90%           8.000000                    21.000000     4.000000     7.000000   \n",
       "95%          10.000000                    23.000000     6.000000     9.000000   \n",
       "99%          11.000000                    25.000000     9.000000    14.000000   \n",
       "99.9%        11.000000                    26.000000    14.000000    16.000000   \n",
       "max          22.000000                    26.000000    16.000000    16.000000   \n",
       "\n",
       "       DaySinceLastOrder  CashbackAmount  \n",
       "count        5630.000000     5630.000000  \n",
       "mean            4.543491      177.221492  \n",
       "std             3.553382       49.193869  \n",
       "min             0.000000        0.000000  \n",
       "1%              0.000000      116.000000  \n",
       "10%             1.000000      127.000000  \n",
       "25%             2.000000      146.000000  \n",
       "50%             4.000000      163.000000  \n",
       "75%             7.000000      196.000000  \n",
       "90%             9.000000      260.000000  \n",
       "95%            11.000000      292.000000  \n",
       "99%            15.000000      318.710000  \n",
       "99.9%          18.000000      324.000000  \n",
       "max            46.000000      325.000000  "
      ]
     },
     "execution_count": 14,
     "metadata": {},
     "output_type": "execute_result"
    }
   ],
   "source": [
    "user_app_df[cont_cols].describe(percentiles= [0.01, 0.1, 0.25, 0.5, 0.75, 0.9, 0.95, 0.99, 0.999])\n"
   ]
  },
  {
   "cell_type": "code",
   "execution_count": 15,
   "id": "53f77f50",
   "metadata": {},
   "outputs": [
    {
     "data": {
      "image/png": "[encoded data removed]",
      "text/plain": [
       "<Figure size 640x480 with 1 Axes>"
      ]
     },
     "metadata": {},
     "output_type": "display_data"
    }
   ],
   "source": [
    "sns.boxplot(x='Tenure', data=user_app_df)\n",
    "plt.xlabel('Tenure')\n",
    "plt.title('Box Plot for Tenure')\n",
    "plt.show()"
   ]
  },
  {
   "cell_type": "code",
   "execution_count": 16,
   "id": "e44b4aea",
   "metadata": {},
   "outputs": [
    {
     "data": {
      "image/png": "[encoded data removed]",
      "text/plain": [
       "<Figure size 640x480 with 1 Axes>"
      ]
     },
     "metadata": {},
     "output_type": "display_data"
    }
   ],
   "source": [
    "sns.boxplot(x='NumberOfAddress', data=user_app_df)\n",
    "plt.xlabel('NumberOfAddress')\n",
    "plt.title('Box Plot for NumberOfAddress')\n",
    "plt.show()"
   ]
  },
  {
   "cell_type": "code",
   "execution_count": 17,
   "id": "4bb385ff",
   "metadata": {},
   "outputs": [
    {
     "data": {
      "image/png": "[encoded data removed]",
      "text/plain": [
       "<Figure size 640x480 with 1 Axes>"
      ]
     },
     "metadata": {},
     "output_type": "display_data"
    }
   ],
   "source": [
    "sns.boxplot(x='WarehouseToHome', data=user_app_df)\n",
    "plt.xlabel('WarehouseToHome')\n",
    "plt.title('Box Plot for WarehouseToHome')\n",
    "plt.show()"
   ]
  },
  {
   "cell_type": "code",
   "execution_count": 18,
   "id": "64e57af6",
   "metadata": {},
   "outputs": [],
   "source": [
    "## Removing outliersin between 1 and 99.9 percentiles\n",
    "for col in cont_cols: \n",
    "    q1 = user_app_df[col].quantile(0.010)\n",
    "    q3 = user_app_df[col].quantile(0.999)\n",
    "    iqr = q3-q1\n",
    "    range_lower  = q1-1.5*iqr\n",
    "    range_upper = q3+1.5*iqr\n",
    "    # Assigning the filtered dataset into data\n",
    "user_app_df = user_app_df.loc[(user_app_df[col] > range_lower) & (user_app_df[col] < range_upper)]\n",
    " "
   ]
  },
  {
   "cell_type": "code",
   "execution_count": 19,
   "id": "12e479ed",
   "metadata": {},
   "outputs": [
    {
     "data": {
      "text/plain": [
       "(5630, 19)"
      ]
     },
     "execution_count": 19,
     "metadata": {},
     "output_type": "execute_result"
    }
   ],
   "source": [
    " user_app_df.shape"
   ]
  },
  {
   "cell_type": "code",
   "execution_count": 20,
   "id": "b0052652",
   "metadata": {},
   "outputs": [],
   "source": [
    "user_app_df['Tenure'] = user_app_df['Tenure'].round(1)"
   ]
  },
  {
   "cell_type": "code",
   "execution_count": 21,
   "id": "7edbb90d",
   "metadata": {},
   "outputs": [
    {
     "name": "stdout",
     "output_type": "stream",
     "text": [
      "0.8    724\n",
      "0.1    690\n",
      "0.0    508\n",
      "0.2    362\n",
      "1.2    335\n",
      "0.7    263\n",
      "0.6    221\n",
      "0.4    204\n",
      "0.3    203\n",
      "0.9    194\n",
      "0.5    183\n",
      "1.0    182\n",
      "1.1    181\n",
      "1.8    160\n",
      "1.3    149\n",
      "1.6    140\n",
      "2.2    126\n",
      "1.5    123\n",
      "1.7    109\n",
      "1.4    106\n",
      "1.9     89\n",
      "2.0     75\n",
      "2.3     70\n",
      "2.5     66\n",
      "2.1     59\n",
      "2.4     55\n",
      "2.6     49\n",
      "4.2      2\n",
      "5.0      1\n",
      "5.1      1\n",
      "Name: tenure_yr, dtype: int64\n",
      "Min: 0.0\n",
      "Max: 5.1\n"
     ]
    }
   ],
   "source": [
    "user_app_df['tenure_yr'] = round(user_app_df['Tenure']/12, 1)\n",
    "\n",
    "print(user_app_df.tenure_yr.value_counts())\n",
    "print(\"Min:\",user_app_df.tenure_yr.min())\n",
    "print(\"Max:\",user_app_df.tenure_yr.max())"
   ]
  },
  {
   "cell_type": "code",
   "execution_count": 22,
   "id": "e177385b",
   "metadata": {},
   "outputs": [],
   "source": [
    "bins_tenure = [0, 1, 2, 4, 5, 6]\n",
    "label_tenure = ['0_1_Yr', '1_2_Yr', '2_4_Yr', '4_5_Yr', '5_6_Yr']\n",
    "\n",
    "user_app_df['Tenure'] = pd.cut(user_app_df['tenure_yr'], bins=bins_tenure, labels=label_tenure, right=False)\n",
    "user_app_df.drop(columns='tenure_yr', inplace=True)\n"
   ]
  },
  {
   "cell_type": "code",
   "execution_count": 23,
   "id": "cdfd1b58",
   "metadata": {},
   "outputs": [
    {
     "data": {
      "text/plain": [
       "0_1_Yr    3552\n",
       "1_2_Yr    1574\n",
       "2_4_Yr     500\n",
       "4_5_Yr       2\n",
       "5_6_Yr       2\n",
       "Name: Tenure, dtype: int64"
      ]
     },
     "execution_count": 23,
     "metadata": {},
     "output_type": "execute_result"
    }
   ],
   "source": [
    "user_app_df.Tenure.value_counts()"
   ]
  },
  {
   "cell_type": "code",
   "execution_count": 24,
   "id": "990b064f",
   "metadata": {},
   "outputs": [
    {
     "data": {
      "text/html": [
       "<div>\n",
       "<style scoped>\n",
       "    .dataframe tbody tr th:only-of-type {\n",
       "        vertical-align: middle;\n",
       "    }\n",
       "\n",
       "    .dataframe tbody tr th {\n",
       "        vertical-align: top;\n",
       "    }\n",
       "\n",
       "    .dataframe thead th {\n",
       "        text-align: right;\n",
       "    }\n",
       "</style>\n",
       "<table border=\"1\" class=\"dataframe\">\n",
       "  <thead>\n",
       "    <tr style=\"text-align: right;\">\n",
       "      <th></th>\n",
       "      <th>Churn</th>\n",
       "      <th>Tenure</th>\n",
       "      <th>PreferredLoginDevice</th>\n",
       "      <th>CityTier</th>\n",
       "      <th>WarehouseToHome</th>\n",
       "      <th>PreferredPaymentMode</th>\n",
       "      <th>Gender</th>\n",
       "      <th>HourSpendOnApp</th>\n",
       "      <th>NumberOfDeviceRegistered</th>\n",
       "      <th>PreferedOrderCat</th>\n",
       "      <th>SatisfactionScore</th>\n",
       "      <th>MaritalStatus</th>\n",
       "      <th>NumberOfAddress</th>\n",
       "      <th>Complain</th>\n",
       "      <th>OrderAmountHikeFromlastYear</th>\n",
       "      <th>CouponUsed</th>\n",
       "      <th>OrderCount</th>\n",
       "      <th>DaySinceLastOrder</th>\n",
       "      <th>CashbackAmount</th>\n",
       "    </tr>\n",
       "  </thead>\n",
       "  <tbody>\n",
       "    <tr>\n",
       "      <th>0</th>\n",
       "      <td>1</td>\n",
       "      <td>0_1_Yr</td>\n",
       "      <td>Mobile Phone</td>\n",
       "      <td>3</td>\n",
       "      <td>6.0</td>\n",
       "      <td>Debit Card</td>\n",
       "      <td>Female</td>\n",
       "      <td>3.000000</td>\n",
       "      <td>3</td>\n",
       "      <td>Laptop &amp; Accessory</td>\n",
       "      <td>2</td>\n",
       "      <td>Single</td>\n",
       "      <td>9</td>\n",
       "      <td>1</td>\n",
       "      <td>11.0</td>\n",
       "      <td>1.0</td>\n",
       "      <td>1.0</td>\n",
       "      <td>5.0</td>\n",
       "      <td>160</td>\n",
       "    </tr>\n",
       "    <tr>\n",
       "      <th>1</th>\n",
       "      <td>1</td>\n",
       "      <td>0_1_Yr</td>\n",
       "      <td>Phone</td>\n",
       "      <td>1</td>\n",
       "      <td>8.0</td>\n",
       "      <td>UPI</td>\n",
       "      <td>Male</td>\n",
       "      <td>3.000000</td>\n",
       "      <td>4</td>\n",
       "      <td>Mobile</td>\n",
       "      <td>3</td>\n",
       "      <td>Single</td>\n",
       "      <td>7</td>\n",
       "      <td>1</td>\n",
       "      <td>15.0</td>\n",
       "      <td>0.0</td>\n",
       "      <td>1.0</td>\n",
       "      <td>0.0</td>\n",
       "      <td>121</td>\n",
       "    </tr>\n",
       "    <tr>\n",
       "      <th>2</th>\n",
       "      <td>1</td>\n",
       "      <td>0_1_Yr</td>\n",
       "      <td>Phone</td>\n",
       "      <td>1</td>\n",
       "      <td>30.0</td>\n",
       "      <td>Debit Card</td>\n",
       "      <td>Male</td>\n",
       "      <td>2.000000</td>\n",
       "      <td>4</td>\n",
       "      <td>Mobile</td>\n",
       "      <td>3</td>\n",
       "      <td>Single</td>\n",
       "      <td>6</td>\n",
       "      <td>1</td>\n",
       "      <td>14.0</td>\n",
       "      <td>0.0</td>\n",
       "      <td>1.0</td>\n",
       "      <td>3.0</td>\n",
       "      <td>120</td>\n",
       "    </tr>\n",
       "    <tr>\n",
       "      <th>3</th>\n",
       "      <td>1</td>\n",
       "      <td>0_1_Yr</td>\n",
       "      <td>Phone</td>\n",
       "      <td>3</td>\n",
       "      <td>15.0</td>\n",
       "      <td>Debit Card</td>\n",
       "      <td>Male</td>\n",
       "      <td>2.000000</td>\n",
       "      <td>4</td>\n",
       "      <td>Laptop &amp; Accessory</td>\n",
       "      <td>5</td>\n",
       "      <td>Single</td>\n",
       "      <td>8</td>\n",
       "      <td>0</td>\n",
       "      <td>23.0</td>\n",
       "      <td>0.0</td>\n",
       "      <td>1.0</td>\n",
       "      <td>3.0</td>\n",
       "      <td>134</td>\n",
       "    </tr>\n",
       "    <tr>\n",
       "      <th>4</th>\n",
       "      <td>1</td>\n",
       "      <td>0_1_Yr</td>\n",
       "      <td>Phone</td>\n",
       "      <td>1</td>\n",
       "      <td>12.0</td>\n",
       "      <td>CC</td>\n",
       "      <td>Male</td>\n",
       "      <td>2.931535</td>\n",
       "      <td>3</td>\n",
       "      <td>Mobile</td>\n",
       "      <td>5</td>\n",
       "      <td>Single</td>\n",
       "      <td>3</td>\n",
       "      <td>0</td>\n",
       "      <td>11.0</td>\n",
       "      <td>1.0</td>\n",
       "      <td>1.0</td>\n",
       "      <td>3.0</td>\n",
       "      <td>130</td>\n",
       "    </tr>\n",
       "    <tr>\n",
       "      <th>5</th>\n",
       "      <td>1</td>\n",
       "      <td>0_1_Yr</td>\n",
       "      <td>Computer</td>\n",
       "      <td>1</td>\n",
       "      <td>22.0</td>\n",
       "      <td>Debit Card</td>\n",
       "      <td>Female</td>\n",
       "      <td>3.000000</td>\n",
       "      <td>5</td>\n",
       "      <td>Mobile Phone</td>\n",
       "      <td>5</td>\n",
       "      <td>Single</td>\n",
       "      <td>2</td>\n",
       "      <td>1</td>\n",
       "      <td>22.0</td>\n",
       "      <td>4.0</td>\n",
       "      <td>6.0</td>\n",
       "      <td>7.0</td>\n",
       "      <td>139</td>\n",
       "    </tr>\n",
       "    <tr>\n",
       "      <th>6</th>\n",
       "      <td>1</td>\n",
       "      <td>0_1_Yr</td>\n",
       "      <td>Phone</td>\n",
       "      <td>3</td>\n",
       "      <td>11.0</td>\n",
       "      <td>Cash on Delivery</td>\n",
       "      <td>Male</td>\n",
       "      <td>2.000000</td>\n",
       "      <td>3</td>\n",
       "      <td>Laptop &amp; Accessory</td>\n",
       "      <td>2</td>\n",
       "      <td>Divorced</td>\n",
       "      <td>4</td>\n",
       "      <td>0</td>\n",
       "      <td>14.0</td>\n",
       "      <td>0.0</td>\n",
       "      <td>1.0</td>\n",
       "      <td>0.0</td>\n",
       "      <td>121</td>\n",
       "    </tr>\n",
       "    <tr>\n",
       "      <th>7</th>\n",
       "      <td>1</td>\n",
       "      <td>0_1_Yr</td>\n",
       "      <td>Phone</td>\n",
       "      <td>1</td>\n",
       "      <td>6.0</td>\n",
       "      <td>CC</td>\n",
       "      <td>Male</td>\n",
       "      <td>3.000000</td>\n",
       "      <td>3</td>\n",
       "      <td>Mobile</td>\n",
       "      <td>2</td>\n",
       "      <td>Divorced</td>\n",
       "      <td>3</td>\n",
       "      <td>1</td>\n",
       "      <td>16.0</td>\n",
       "      <td>2.0</td>\n",
       "      <td>2.0</td>\n",
       "      <td>0.0</td>\n",
       "      <td>123</td>\n",
       "    </tr>\n",
       "    <tr>\n",
       "      <th>8</th>\n",
       "      <td>1</td>\n",
       "      <td>1_2_Yr</td>\n",
       "      <td>Phone</td>\n",
       "      <td>3</td>\n",
       "      <td>9.0</td>\n",
       "      <td>E wallet</td>\n",
       "      <td>Male</td>\n",
       "      <td>2.931535</td>\n",
       "      <td>4</td>\n",
       "      <td>Mobile</td>\n",
       "      <td>3</td>\n",
       "      <td>Divorced</td>\n",
       "      <td>2</td>\n",
       "      <td>1</td>\n",
       "      <td>14.0</td>\n",
       "      <td>0.0</td>\n",
       "      <td>1.0</td>\n",
       "      <td>2.0</td>\n",
       "      <td>127</td>\n",
       "    </tr>\n",
       "    <tr>\n",
       "      <th>9</th>\n",
       "      <td>1</td>\n",
       "      <td>0_1_Yr</td>\n",
       "      <td>Phone</td>\n",
       "      <td>1</td>\n",
       "      <td>31.0</td>\n",
       "      <td>Debit Card</td>\n",
       "      <td>Male</td>\n",
       "      <td>2.000000</td>\n",
       "      <td>5</td>\n",
       "      <td>Mobile</td>\n",
       "      <td>3</td>\n",
       "      <td>Single</td>\n",
       "      <td>2</td>\n",
       "      <td>0</td>\n",
       "      <td>12.0</td>\n",
       "      <td>1.0</td>\n",
       "      <td>1.0</td>\n",
       "      <td>1.0</td>\n",
       "      <td>123</td>\n",
       "    </tr>\n",
       "  </tbody>\n",
       "</table>\n",
       "</div>"
      ],
      "text/plain": [
       "   Churn  Tenure PreferredLoginDevice  CityTier  WarehouseToHome  \\\n",
       "0      1  0_1_Yr         Mobile Phone         3              6.0   \n",
       "1      1  0_1_Yr                Phone         1              8.0   \n",
       "2      1  0_1_Yr                Phone         1             30.0   \n",
       "3      1  0_1_Yr                Phone         3             15.0   \n",
       "4      1  0_1_Yr                Phone         1             12.0   \n",
       "5      1  0_1_Yr             Computer         1             22.0   \n",
       "6      1  0_1_Yr                Phone         3             11.0   \n",
       "7      1  0_1_Yr                Phone         1              6.0   \n",
       "8      1  1_2_Yr                Phone         3              9.0   \n",
       "9      1  0_1_Yr                Phone         1             31.0   \n",
       "\n",
       "  PreferredPaymentMode  Gender  HourSpendOnApp  NumberOfDeviceRegistered  \\\n",
       "0           Debit Card  Female        3.000000                         3   \n",
       "1                  UPI    Male        3.000000                         4   \n",
       "2           Debit Card    Male        2.000000                         4   \n",
       "3           Debit Card    Male        2.000000                         4   \n",
       "4                   CC    Male        2.931535                         3   \n",
       "5           Debit Card  Female        3.000000                         5   \n",
       "6     Cash on Delivery    Male        2.000000                         3   \n",
       "7                   CC    Male        3.000000                         3   \n",
       "8             E wallet    Male        2.931535                         4   \n",
       "9           Debit Card    Male        2.000000                         5   \n",
       "\n",
       "     PreferedOrderCat  SatisfactionScore MaritalStatus  NumberOfAddress  \\\n",
       "0  Laptop & Accessory                  2        Single                9   \n",
       "1              Mobile                  3        Single                7   \n",
       "2              Mobile                  3        Single                6   \n",
       "3  Laptop & Accessory                  5        Single                8   \n",
       "4              Mobile                  5        Single                3   \n",
       "5        Mobile Phone                  5        Single                2   \n",
       "6  Laptop & Accessory                  2      Divorced                4   \n",
       "7              Mobile                  2      Divorced                3   \n",
       "8              Mobile                  3      Divorced                2   \n",
       "9              Mobile                  3        Single                2   \n",
       "\n",
       "   Complain  OrderAmountHikeFromlastYear  CouponUsed  OrderCount  \\\n",
       "0         1                         11.0         1.0         1.0   \n",
       "1         1                         15.0         0.0         1.0   \n",
       "2         1                         14.0         0.0         1.0   \n",
       "3         0                         23.0         0.0         1.0   \n",
       "4         0                         11.0         1.0         1.0   \n",
       "5         1                         22.0         4.0         6.0   \n",
       "6         0                         14.0         0.0         1.0   \n",
       "7         1                         16.0         2.0         2.0   \n",
       "8         1                         14.0         0.0         1.0   \n",
       "9         0                         12.0         1.0         1.0   \n",
       "\n",
       "   DaySinceLastOrder  CashbackAmount  \n",
       "0                5.0             160  \n",
       "1                0.0             121  \n",
       "2                3.0             120  \n",
       "3                3.0             134  \n",
       "4                3.0             130  \n",
       "5                7.0             139  \n",
       "6                0.0             121  \n",
       "7                0.0             123  \n",
       "8                2.0             127  \n",
       "9                1.0             123  "
      ]
     },
     "execution_count": 24,
     "metadata": {},
     "output_type": "execute_result"
    }
   ],
   "source": [
    "user_app_df.head(10)"
   ]
  },
  {
   "cell_type": "code",
   "execution_count": 25,
   "id": "42eb5afb",
   "metadata": {},
   "outputs": [],
   "source": [
    "user_app_df[['Tenure','CityTier']] = user_app_df[['Tenure','CityTier']].astype('object')"
   ]
  },
  {
   "cell_type": "code",
   "execution_count": 26,
   "id": "a14de77a",
   "metadata": {},
   "outputs": [
    {
     "data": {
      "text/html": [
       "<div>\n",
       "<style scoped>\n",
       "    .dataframe tbody tr th:only-of-type {\n",
       "        vertical-align: middle;\n",
       "    }\n",
       "\n",
       "    .dataframe tbody tr th {\n",
       "        vertical-align: top;\n",
       "    }\n",
       "\n",
       "    .dataframe thead th {\n",
       "        text-align: right;\n",
       "    }\n",
       "</style>\n",
       "<table border=\"1\" class=\"dataframe\">\n",
       "  <thead>\n",
       "    <tr style=\"text-align: right;\">\n",
       "      <th></th>\n",
       "      <th>Tenure</th>\n",
       "      <th>PreferredLoginDevice</th>\n",
       "      <th>CityTier</th>\n",
       "      <th>PreferredPaymentMode</th>\n",
       "      <th>Gender</th>\n",
       "      <th>PreferedOrderCat</th>\n",
       "      <th>MaritalStatus</th>\n",
       "    </tr>\n",
       "  </thead>\n",
       "  <tbody>\n",
       "    <tr>\n",
       "      <th>count</th>\n",
       "      <td>5630</td>\n",
       "      <td>5630</td>\n",
       "      <td>5630</td>\n",
       "      <td>5630</td>\n",
       "      <td>5630</td>\n",
       "      <td>5630</td>\n",
       "      <td>5630</td>\n",
       "    </tr>\n",
       "    <tr>\n",
       "      <th>unique</th>\n",
       "      <td>5</td>\n",
       "      <td>3</td>\n",
       "      <td>3</td>\n",
       "      <td>7</td>\n",
       "      <td>2</td>\n",
       "      <td>6</td>\n",
       "      <td>3</td>\n",
       "    </tr>\n",
       "    <tr>\n",
       "      <th>top</th>\n",
       "      <td>0_1_Yr</td>\n",
       "      <td>Mobile Phone</td>\n",
       "      <td>1</td>\n",
       "      <td>Debit Card</td>\n",
       "      <td>Male</td>\n",
       "      <td>Laptop &amp; Accessory</td>\n",
       "      <td>Married</td>\n",
       "    </tr>\n",
       "    <tr>\n",
       "      <th>freq</th>\n",
       "      <td>3552</td>\n",
       "      <td>2765</td>\n",
       "      <td>3666</td>\n",
       "      <td>2314</td>\n",
       "      <td>3384</td>\n",
       "      <td>2050</td>\n",
       "      <td>2986</td>\n",
       "    </tr>\n",
       "  </tbody>\n",
       "</table>\n",
       "</div>"
      ],
      "text/plain": [
       "        Tenure PreferredLoginDevice  CityTier PreferredPaymentMode Gender  \\\n",
       "count     5630                 5630      5630                 5630   5630   \n",
       "unique       5                    3         3                    7      2   \n",
       "top     0_1_Yr         Mobile Phone         1           Debit Card   Male   \n",
       "freq      3552                 2765      3666                 2314   3384   \n",
       "\n",
       "          PreferedOrderCat MaritalStatus  \n",
       "count                 5630          5630  \n",
       "unique                   6             3  \n",
       "top     Laptop & Accessory       Married  \n",
       "freq                  2050          2986  "
      ]
     },
     "execution_count": 26,
     "metadata": {},
     "output_type": "execute_result"
    }
   ],
   "source": [
    "user_app_df.describe(include='object')"
   ]
  },
  {
   "cell_type": "markdown",
   "id": "7b9175ca",
   "metadata": {},
   "source": [
    "### Inferences:\n",
    "i. Higher proportion of recently joined customers with '0_1_yr' tenure.    \n",
    "ii. Most of the customers arefrom CityTier 1.     \n",
    "iii. Mobile phones are the most commonly used devices for customer login.           \n",
    "iv. Debit cards are the most commonly used payment mode by customers.     \n",
    "v. a higher proportion of male customers.      \n",
    "vi. Customers seem to prefer ordering 'Laptop & Accessory' products more often.    \n",
    "vii. a higher proportion of married customers.   "
   ]
  },
  {
   "cell_type": "markdown",
   "id": "29e476e2",
   "metadata": {},
   "source": [
    "## Step 4: EDA"
   ]
  },
  {
   "cell_type": "code",
   "execution_count": 27,
   "id": "4cf2306b",
   "metadata": {},
   "outputs": [
    {
     "data": {
      "image/png": "[encoded data removed]",
      "text/plain": [
       "<Figure size 800x600 with 1 Axes>"
      ]
     },
     "metadata": {},
     "output_type": "display_data"
    }
   ],
   "source": [
    "# Churn Distribution in Tenure:\n",
    "plt.figure(figsize=(8, 6))\n",
    "sns.countplot(x='Tenure', hue='Churn', data=user_app_df)\n",
    "plt.xlabel('Tenure')\n",
    "plt.ylabel('Count')\n",
    "plt.title('Churn Distribution in Tenure')\n",
    "plt.legend(title='Churn', labels=['Not Churned', 'Churned'])\n",
    "plt.show()"
   ]
  },
  {
   "cell_type": "markdown",
   "id": "bb5061b6",
   "metadata": {},
   "source": [
    "### Inferences:\n",
    "i. Higher Churn Rate in Early Tenure Bins: \n",
    "Customers in the tenure tenure 0 to 2 years are more likely to churn compared to the later tenure bins. This suggests that new customers, especially those in their first year of engagement, have a higher likelihood of churning. It might be indicative of the onboarding experience or early interactions not meeting their expectations or needs.\n",
    "\n",
    "ii. Decreasing Churn Rate Over Time:\n",
    "As customers stay with the company longer, the churn rate decreases. After 2 years of tenure only non-churn customers indicates that once customers have remained with the company for at least two years, their likelihood of churning decreases significantly. This could be a positive sign, suggesting that customers become more loyal and satisfied with the services over time."
   ]
  },
  {
   "cell_type": "code",
   "execution_count": 28,
   "id": "90a4e2d1",
   "metadata": {},
   "outputs": [
    {
     "data": {
      "image/png": "[encoded data removed]",
      "text/plain": [
       "<Figure size 1000x1000 with 2 Axes>"
      ]
     },
     "metadata": {},
     "output_type": "display_data"
    }
   ],
   "source": [
    "# Plotting boxplots for \"NumberOfAddress\" and \"NumberOfDeviceRegistered\"\n",
    "fig=plt.subplots(figsize=(10,10))\n",
    "\n",
    "for i,feature in enumerate([\"NumberOfAddress\", \"NumberOfDeviceRegistered\"]):\n",
    "    plt.subplot(2, 2, i+1)\n",
    "    plt.subplots_adjust(hspace = 4.0)\n",
    "    sns.boxplot(y = feature, x = 'Churn', data = user_app_df, hue=\"Churn\", showfliers= False, palette=(\"PRGn\"))\n",
    "    plt.tight_layout()"
   ]
  },
  {
   "cell_type": "markdown",
   "id": "518647b1",
   "metadata": {},
   "source": [
    "### Inferences:\n",
    "i. a larger proportion of churned customers have more addresses (higher 'NumberOfAddress') compared to non-churned customers.   \n",
    "ii.On an average, churned customers tend to have a greater number of registered devices compared to non-churned customers. "
   ]
  },
  {
   "cell_type": "code",
   "execution_count": 29,
   "id": "c8e6d3c0",
   "metadata": {},
   "outputs": [
    {
     "data": {
      "image/png": "[encoded data removed]",
      "text/plain": [
       "<Figure size 1600x500 with 3 Axes>"
      ]
     },
     "metadata": {},
     "output_type": "display_data"
    }
   ],
   "source": [
    "plt.figure(figsize=(16, 5))\n",
    "\n",
    "# Countplot for CityTier against Churn\n",
    "plt.subplot(1, 3, 1)\n",
    "sns.countplot(x='CityTier', hue='Churn', data=user_app_df, palette='viridis')\n",
    "plt.xlabel('CityTier')\n",
    "plt.ylabel('Count')\n",
    "plt.title('CityTier vs Churn')\n",
    "\n",
    "# Countplot for MaritalStatus against Churn\n",
    "plt.subplot(1, 3, 2)\n",
    "sns.countplot(x='MaritalStatus', hue='Churn', data=user_app_df, palette='viridis')\n",
    "plt.xlabel('MaritalStatus')\n",
    "plt.ylabel('Count')\n",
    "plt.title('Marital Status vs Churn')\n",
    "\n",
    "# Countplot for Gender against Churn\n",
    "plt.subplot(1, 3, 3)\n",
    "sns.countplot(x='Gender', hue='Churn', data=user_app_df, palette='viridis')\n",
    "plt.xlabel('Gender')\n",
    "plt.ylabel('Count')\n",
    "plt.title('Gender vs Churn')\n",
    "\n",
    "plt.tight_layout()\n",
    "plt.show()\n"
   ]
  },
  {
   "cell_type": "markdown",
   "id": "9c07696a",
   "metadata": {},
   "source": [
    "### Inferences:\n",
    "i. Customers from CityTier 1 have the lowest probability of churn. They display higher loyalty and are less likely to discontinue using the service or product.   \n",
    "ii. Among various marital statuses, married customers exhibit the lowest probability of churn.    \n",
    "iii.Marital status Single have highest probability of churn.          \n",
    "iv. Male customers show the lowest probability of churn compared to other genders."
   ]
  },
  {
   "cell_type": "code",
   "execution_count": 30,
   "id": "db80aab9",
   "metadata": {},
   "outputs": [
    {
     "data": {
      "image/png": "[encoded data removed]",
      "text/plain": [
       "<Figure size 700x300 with 1 Axes>"
      ]
     },
     "metadata": {},
     "output_type": "display_data"
    }
   ],
   "source": [
    "plt.figure(figsize=(7, 3))\n",
    "sns.countplot(x='PreferedOrderCat', hue='Churn', data=user_app_df)\n",
    "plt.xlabel('Preferred Order Category')\n",
    "plt.ylabel('Count')\n",
    "plt.title('Churn Distribution in Preferred Order Categories')\n",
    "plt.legend(title='Churn', labels=['Not Churned', 'Churned'])\n",
    "plt.show()"
   ]
  },
  {
   "cell_type": "markdown",
   "id": "d5e40b18",
   "metadata": {},
   "source": [
    "### Inference:\n",
    "Based on the visualization, it appears that the churn count is higher in the \"Mobile\" and \"Mobile Phone\" categories. \n",
    "This suggests that customers who have chosen these categories as their preferred order category are more likely to churn compared to other categories.Address any issues related to product defects or performance that may be leading to customer dissatisfaction."
   ]
  },
  {
   "cell_type": "code",
   "execution_count": 31,
   "id": "aa47821b",
   "metadata": {},
   "outputs": [
    {
     "data": {
      "image/png": "[encoded data removed]",
      "text/plain": [
       "<Figure size 700x300 with 1 Axes>"
      ]
     },
     "metadata": {},
     "output_type": "display_data"
    }
   ],
   "source": [
    "plt.figure(figsize=(7, 3))\n",
    "sns.countplot(x='PreferredLoginDevice', hue='Churn', data=user_app_df,palette=['#FF6F00', '#2196F3'])\n",
    "plt.xlabel('Preferred Login Device')\n",
    "plt.ylabel('Count')\n",
    "plt.title('Churn Distribution in PreferredLoginDevice')\n",
    "plt.legend(title='Churn', labels=['Not Churned', 'Churned'])\n",
    "plt.show()"
   ]
  },
  {
   "cell_type": "markdown",
   "id": "86e4a45d",
   "metadata": {},
   "source": [
    "### Inference:\n",
    "Customers who prefer to use \"Computer\" and \"Phone\" for their login may have a higher churn rate compared to those using \"Mobile Phone.\" This suggests that the choice of login device might influence their overall satisfaction and engagement with the service."
   ]
  },
  {
   "cell_type": "code",
   "execution_count": 32,
   "id": "af033fdc",
   "metadata": {
    "scrolled": true
   },
   "outputs": [
    {
     "data": {
      "image/png": "[encoded data removed]",
      "text/plain": [
       "<Figure size 1200x800 with 5 Axes>"
      ]
     },
     "metadata": {},
     "output_type": "display_data"
    }
   ],
   "source": [
    "# Selecting continuous features and churn from the DataFrame\n",
    "cont_features = ['OrderAmountHikeFromlastYear', 'CouponUsed', 'OrderCount', 'DaySinceLastOrder', 'CashbackAmount']\n",
    "\n",
    "# Create box plots for each continuous feature against churn\n",
    "plt.figure(figsize=(12, 8))\n",
    "for i, feature in enumerate(cont_features, 1):\n",
    "    plt.subplot(2, 3, i)\n",
    "    sns.boxplot(x='Churn', y=feature, data=user_app_df, palette='coolwarm',showfliers=False)\n",
    "    plt.xlabel('Churn')\n",
    "    plt.ylabel('Values')\n",
    "    plt.title(f'{feature} vs Churn')\n",
    "    plt.xticks(ticks=[0, 1], labels=['Not Churned', 'Churned'])\n",
    "\n",
    "plt.tight_layout()\n",
    "plt.show()"
   ]
  },
  {
   "cell_type": "markdown",
   "id": "dba88d96",
   "metadata": {},
   "source": [
    "### Inferences:\n",
    "i.on average, the order amount hike from the last year, coupon used and order count are not significantly different between customers who churned and those who did not churn.   \n",
    "ii.Significant difference in Day since last order of churn and non churn customers.These observations indicate that customers who have not churned tend to make more frequent purchases, while churned customers are either making fewer purchases or are more likely to stop buying from the company soon after their last purchase.   \n",
    "iii.The median cashback amount received by customers who have not churned is higher compared to the median cashback amount received by churned customers. This means that, on average, customers who remain active tend to receive more significant cashback rewards compared to customers who have already churned."
   ]
  },
  {
   "cell_type": "code",
   "execution_count": 33,
   "id": "6612a6b4",
   "metadata": {},
   "outputs": [
    {
     "data": {
      "image/png": "[encoded data removed]",
      "text/plain": [
       "<Figure size 1000x800 with 2 Axes>"
      ]
     },
     "metadata": {},
     "output_type": "display_data"
    }
   ],
   "source": [
    "plt.figure(figsize=(10, 8))\n",
    "sns.heatmap(user_app_df.corr(), vmax=1, vmin=-1,cmap='viridis', annot=True)\n",
    "plt.show()"
   ]
  },
  {
   "cell_type": "markdown",
   "id": "2ee717eb",
   "metadata": {},
   "source": [
    "### Observations:\n",
    "Based on the heatmap analysis, it has been observed that none of the features in the dataset exhibit high correlation with one another. Hence, there is no need to remove any features due to high correlation, and all the features can be retained for further analysis."
   ]
  },
  {
   "cell_type": "code",
   "execution_count": 34,
   "id": "a585d70c",
   "metadata": {},
   "outputs": [
    {
     "name": "stdout",
     "output_type": "stream",
     "text": [
      "0    0.831616\n",
      "1    0.168384\n",
      "Name: Churn, dtype: float64\n"
     ]
    }
   ],
   "source": [
    "churn_distribution = user_app_df['Churn'].value_counts(normalize=True)\n",
    "\n",
    "print(churn_distribution)"
   ]
  },
  {
   "cell_type": "code",
   "execution_count": 35,
   "id": "50b2f696",
   "metadata": {},
   "outputs": [
    {
     "data": {
      "image/png": "[encoded data removed]",
      "text/plain": [
       "<Figure size 640x480 with 1 Axes>"
      ]
     },
     "metadata": {},
     "output_type": "display_data"
    }
   ],
   "source": [
    "sns.countplot(x='Churn', data=user_app_df)\n",
    "plt.xlabel('Churn')\n",
    "plt.ylabel('Count')\n",
    "plt.title('Churn Class Distribution')\n",
    "plt.show()"
   ]
  },
  {
   "cell_type": "code",
   "execution_count": 36,
   "id": "4854f691",
   "metadata": {},
   "outputs": [
    {
     "name": "stdout",
     "output_type": "stream",
     "text": [
      "Churn Rate : 16.84%\n"
     ]
    }
   ],
   "source": [
    "print('Churn Rate : {0}%'.format(round(((sum(user_app_df['Churn'])/len(user_app_df['Churn']))*100),2)))"
   ]
  },
  {
   "cell_type": "markdown",
   "id": "a784cca6",
   "metadata": {},
   "source": [
    "Churn rate is 16.84% of the overall data available. This indicates that we would need to handle the class imbalance in this classification problem."
   ]
  },
  {
   "cell_type": "code",
   "execution_count": 37,
   "id": "380ada02",
   "metadata": {},
   "outputs": [],
   "source": [
    "##Creating an alternate copy of 'user_app_df' dataframe \n",
    "user_app_df_1= user_app_df.copy()"
   ]
  },
  {
   "cell_type": "code",
   "execution_count": 38,
   "id": "0359ffb5",
   "metadata": {},
   "outputs": [],
   "source": [
    "##Rewriting original dataframe 'user_app_df_1'\n",
    "user_app_df= user_app_df_1.copy()"
   ]
  },
  {
   "cell_type": "markdown",
   "id": "c02b7723",
   "metadata": {},
   "source": [
    "### Dummy Variable Creation"
   ]
  },
  {
   "cell_type": "code",
   "execution_count": 39,
   "id": "5b2d43b9",
   "metadata": {},
   "outputs": [],
   "source": [
    "# Creating dummies for categorical variables\n",
    "cat_cols= ['Tenure','PreferredLoginDevice','PreferredPaymentMode','MaritalStatus', 'Gender','PreferedOrderCat','CityTier']\n",
    "dummy_data = pd.get_dummies(user_app_df[cat_cols], prefix=cat_cols, drop_first = True)\n",
    "user_app_df = pd.concat([user_app_df, dummy_data], axis = 1)\n",
    "\n",
    "##Dropping the categorical variables column\n",
    "user_app_df.drop(cat_cols, axis=1, inplace=True)"
   ]
  },
  {
   "cell_type": "code",
   "execution_count": 40,
   "id": "34c7a9e8",
   "metadata": {},
   "outputs": [
    {
     "data": {
      "text/html": [
       "<div>\n",
       "<style scoped>\n",
       "    .dataframe tbody tr th:only-of-type {\n",
       "        vertical-align: middle;\n",
       "    }\n",
       "\n",
       "    .dataframe tbody tr th {\n",
       "        vertical-align: top;\n",
       "    }\n",
       "\n",
       "    .dataframe thead th {\n",
       "        text-align: right;\n",
       "    }\n",
       "</style>\n",
       "<table border=\"1\" class=\"dataframe\">\n",
       "  <thead>\n",
       "    <tr style=\"text-align: right;\">\n",
       "      <th></th>\n",
       "      <th>Churn</th>\n",
       "      <th>WarehouseToHome</th>\n",
       "      <th>HourSpendOnApp</th>\n",
       "      <th>NumberOfDeviceRegistered</th>\n",
       "      <th>SatisfactionScore</th>\n",
       "      <th>NumberOfAddress</th>\n",
       "      <th>Complain</th>\n",
       "      <th>OrderAmountHikeFromlastYear</th>\n",
       "      <th>CouponUsed</th>\n",
       "      <th>OrderCount</th>\n",
       "      <th>...</th>\n",
       "      <th>MaritalStatus_Married</th>\n",
       "      <th>MaritalStatus_Single</th>\n",
       "      <th>Gender_Male</th>\n",
       "      <th>PreferedOrderCat_Grocery</th>\n",
       "      <th>PreferedOrderCat_Laptop &amp; Accessory</th>\n",
       "      <th>PreferedOrderCat_Mobile</th>\n",
       "      <th>PreferedOrderCat_Mobile Phone</th>\n",
       "      <th>PreferedOrderCat_Others</th>\n",
       "      <th>CityTier_2</th>\n",
       "      <th>CityTier_3</th>\n",
       "    </tr>\n",
       "  </thead>\n",
       "  <tbody>\n",
       "    <tr>\n",
       "      <th>0</th>\n",
       "      <td>1</td>\n",
       "      <td>6.0</td>\n",
       "      <td>3.000000</td>\n",
       "      <td>3</td>\n",
       "      <td>2</td>\n",
       "      <td>9</td>\n",
       "      <td>1</td>\n",
       "      <td>11.0</td>\n",
       "      <td>1.0</td>\n",
       "      <td>1.0</td>\n",
       "      <td>...</td>\n",
       "      <td>0</td>\n",
       "      <td>1</td>\n",
       "      <td>0</td>\n",
       "      <td>0</td>\n",
       "      <td>1</td>\n",
       "      <td>0</td>\n",
       "      <td>0</td>\n",
       "      <td>0</td>\n",
       "      <td>0</td>\n",
       "      <td>1</td>\n",
       "    </tr>\n",
       "    <tr>\n",
       "      <th>1</th>\n",
       "      <td>1</td>\n",
       "      <td>8.0</td>\n",
       "      <td>3.000000</td>\n",
       "      <td>4</td>\n",
       "      <td>3</td>\n",
       "      <td>7</td>\n",
       "      <td>1</td>\n",
       "      <td>15.0</td>\n",
       "      <td>0.0</td>\n",
       "      <td>1.0</td>\n",
       "      <td>...</td>\n",
       "      <td>0</td>\n",
       "      <td>1</td>\n",
       "      <td>1</td>\n",
       "      <td>0</td>\n",
       "      <td>0</td>\n",
       "      <td>1</td>\n",
       "      <td>0</td>\n",
       "      <td>0</td>\n",
       "      <td>0</td>\n",
       "      <td>0</td>\n",
       "    </tr>\n",
       "    <tr>\n",
       "      <th>2</th>\n",
       "      <td>1</td>\n",
       "      <td>30.0</td>\n",
       "      <td>2.000000</td>\n",
       "      <td>4</td>\n",
       "      <td>3</td>\n",
       "      <td>6</td>\n",
       "      <td>1</td>\n",
       "      <td>14.0</td>\n",
       "      <td>0.0</td>\n",
       "      <td>1.0</td>\n",
       "      <td>...</td>\n",
       "      <td>0</td>\n",
       "      <td>1</td>\n",
       "      <td>1</td>\n",
       "      <td>0</td>\n",
       "      <td>0</td>\n",
       "      <td>1</td>\n",
       "      <td>0</td>\n",
       "      <td>0</td>\n",
       "      <td>0</td>\n",
       "      <td>0</td>\n",
       "    </tr>\n",
       "    <tr>\n",
       "      <th>3</th>\n",
       "      <td>1</td>\n",
       "      <td>15.0</td>\n",
       "      <td>2.000000</td>\n",
       "      <td>4</td>\n",
       "      <td>5</td>\n",
       "      <td>8</td>\n",
       "      <td>0</td>\n",
       "      <td>23.0</td>\n",
       "      <td>0.0</td>\n",
       "      <td>1.0</td>\n",
       "      <td>...</td>\n",
       "      <td>0</td>\n",
       "      <td>1</td>\n",
       "      <td>1</td>\n",
       "      <td>0</td>\n",
       "      <td>1</td>\n",
       "      <td>0</td>\n",
       "      <td>0</td>\n",
       "      <td>0</td>\n",
       "      <td>0</td>\n",
       "      <td>1</td>\n",
       "    </tr>\n",
       "    <tr>\n",
       "      <th>4</th>\n",
       "      <td>1</td>\n",
       "      <td>12.0</td>\n",
       "      <td>2.931535</td>\n",
       "      <td>3</td>\n",
       "      <td>5</td>\n",
       "      <td>3</td>\n",
       "      <td>0</td>\n",
       "      <td>11.0</td>\n",
       "      <td>1.0</td>\n",
       "      <td>1.0</td>\n",
       "      <td>...</td>\n",
       "      <td>0</td>\n",
       "      <td>1</td>\n",
       "      <td>1</td>\n",
       "      <td>0</td>\n",
       "      <td>0</td>\n",
       "      <td>1</td>\n",
       "      <td>0</td>\n",
       "      <td>0</td>\n",
       "      <td>0</td>\n",
       "      <td>0</td>\n",
       "    </tr>\n",
       "  </tbody>\n",
       "</table>\n",
       "<p>5 rows × 34 columns</p>\n",
       "</div>"
      ],
      "text/plain": [
       "   Churn  WarehouseToHome  HourSpendOnApp  NumberOfDeviceRegistered  \\\n",
       "0      1              6.0        3.000000                         3   \n",
       "1      1              8.0        3.000000                         4   \n",
       "2      1             30.0        2.000000                         4   \n",
       "3      1             15.0        2.000000                         4   \n",
       "4      1             12.0        2.931535                         3   \n",
       "\n",
       "   SatisfactionScore  NumberOfAddress  Complain  OrderAmountHikeFromlastYear  \\\n",
       "0                  2                9         1                         11.0   \n",
       "1                  3                7         1                         15.0   \n",
       "2                  3                6         1                         14.0   \n",
       "3                  5                8         0                         23.0   \n",
       "4                  5                3         0                         11.0   \n",
       "\n",
       "   CouponUsed  OrderCount  ...  MaritalStatus_Married  MaritalStatus_Single  \\\n",
       "0         1.0         1.0  ...                      0                     1   \n",
       "1         0.0         1.0  ...                      0                     1   \n",
       "2         0.0         1.0  ...                      0                     1   \n",
       "3         0.0         1.0  ...                      0                     1   \n",
       "4         1.0         1.0  ...                      0                     1   \n",
       "\n",
       "   Gender_Male  PreferedOrderCat_Grocery  PreferedOrderCat_Laptop & Accessory  \\\n",
       "0            0                         0                                    1   \n",
       "1            1                         0                                    0   \n",
       "2            1                         0                                    0   \n",
       "3            1                         0                                    1   \n",
       "4            1                         0                                    0   \n",
       "\n",
       "   PreferedOrderCat_Mobile  PreferedOrderCat_Mobile Phone  \\\n",
       "0                        0                              0   \n",
       "1                        1                              0   \n",
       "2                        1                              0   \n",
       "3                        0                              0   \n",
       "4                        1                              0   \n",
       "\n",
       "   PreferedOrderCat_Others  CityTier_2  CityTier_3  \n",
       "0                        0           0           1  \n",
       "1                        0           0           0  \n",
       "2                        0           0           0  \n",
       "3                        0           0           1  \n",
       "4                        0           0           0  \n",
       "\n",
       "[5 rows x 34 columns]"
      ]
     },
     "execution_count": 40,
     "metadata": {},
     "output_type": "execute_result"
    }
   ],
   "source": [
    "user_app_df.head()"
   ]
  },
  {
   "cell_type": "code",
   "execution_count": 41,
   "id": "25e85a65",
   "metadata": {},
   "outputs": [
    {
     "name": "stdout",
     "output_type": "stream",
     "text": [
      "['Churn', 'Complain', 'Tenure_1_2_Yr', 'Tenure_2_4_Yr', 'Tenure_4_5_Yr', 'Tenure_5_6_Yr', 'PreferredLoginDevice_Mobile Phone', 'PreferredLoginDevice_Phone', 'PreferredPaymentMode_COD', 'PreferredPaymentMode_Cash on Delivery', 'PreferredPaymentMode_Credit Card', 'PreferredPaymentMode_Debit Card', 'PreferredPaymentMode_E wallet', 'PreferredPaymentMode_UPI', 'MaritalStatus_Married', 'MaritalStatus_Single', 'Gender_Male', 'PreferedOrderCat_Grocery', 'PreferedOrderCat_Laptop & Accessory', 'PreferedOrderCat_Mobile', 'PreferedOrderCat_Mobile Phone', 'PreferedOrderCat_Others', 'CityTier_2', 'CityTier_3']\n"
     ]
    }
   ],
   "source": [
    "# Creating a function to find binary value columns from the 'tele_churn_data_1' dataframe.\n",
    "def binary_value_cols(dataframe):\n",
    "    dataframe_1 = dataframe.copy()\n",
    "    binarycolumn = (dataframe_1.nunique()==2)\n",
    "    list_binarycolumn = list(binarycolumn [binarycolumn .values==True].index)\n",
    "    return list_binarycolumn\n",
    "\n",
    "binary_cols_list =  binary_value_cols(dataframe= user_app_df)\n",
    "print(binary_cols_list)"
   ]
  },
  {
   "cell_type": "markdown",
   "id": "06688d74",
   "metadata": {},
   "source": [
    "## Step 5: Test-Train Split and Feature scaling"
   ]
  },
  {
   "cell_type": "code",
   "execution_count": 42,
   "id": "da3739c8",
   "metadata": {},
   "outputs": [],
   "source": [
    "# divide data into train and test\n",
    "##split into train and test\n",
    "from sklearn.model_selection import train_test_split\n",
    "np.random.seed(0)\n",
    "df_train, df_test = train_test_split(user_app_df, train_size=0.7, test_size = 0.3, random_state=42)"
   ]
  },
  {
   "cell_type": "code",
   "execution_count": 43,
   "id": "a49757ff",
   "metadata": {},
   "outputs": [],
   "source": [
    "# Dataframe with binary columns\n",
    "df_binary_train = df_train.loc[:, binary_cols_list]\n",
    "df_binary_test =df_test.loc[:, binary_cols_list]\n",
    "\n",
    "##Dropping binary dummy variables and we shall concat them later to preserve the scale\n",
    "df_train = df_train.drop( binary_cols_list, axis=1)\n",
    "df_test = df_test.drop( binary_cols_list, axis=1)\n",
    "\n",
    "##StandardScaler\n",
    "from sklearn.preprocessing import StandardScaler\n",
    "all_colms = df_train.columns\n",
    "scaler = StandardScaler()\n",
    "\n",
    "#scaler fit_transform on train data\n",
    "df_train[all_colms] = scaler.fit_transform(df_train[all_colms])\n",
    "#concat dummies:Train set\n",
    "df_train = pd.concat([df_train, df_binary_train], axis=1)\n",
    "\n",
    "#scaler transform on test data\n",
    "df_test[all_colms] = scaler.transform(df_test[all_colms])\n",
    "#concat dummies: Test set\n",
    "df_test = pd.concat([df_test, df_binary_test], axis=1)"
   ]
  },
  {
   "cell_type": "code",
   "execution_count": 44,
   "id": "5244e7aa",
   "metadata": {},
   "outputs": [
    {
     "name": "stdout",
     "output_type": "stream",
     "text": [
      "(3940, 34)\n",
      "(1689, 34)\n"
     ]
    }
   ],
   "source": [
    "print(df_train.shape)\n",
    "print(df_test.shape)"
   ]
  },
  {
   "cell_type": "code",
   "execution_count": 45,
   "id": "b5f8e1c1",
   "metadata": {},
   "outputs": [
    {
     "data": {
      "text/html": [
       "<div>\n",
       "<style scoped>\n",
       "    .dataframe tbody tr th:only-of-type {\n",
       "        vertical-align: middle;\n",
       "    }\n",
       "\n",
       "    .dataframe tbody tr th {\n",
       "        vertical-align: top;\n",
       "    }\n",
       "\n",
       "    .dataframe thead th {\n",
       "        text-align: right;\n",
       "    }\n",
       "</style>\n",
       "<table border=\"1\" class=\"dataframe\">\n",
       "  <thead>\n",
       "    <tr style=\"text-align: right;\">\n",
       "      <th></th>\n",
       "      <th>WarehouseToHome</th>\n",
       "      <th>HourSpendOnApp</th>\n",
       "      <th>NumberOfDeviceRegistered</th>\n",
       "      <th>SatisfactionScore</th>\n",
       "      <th>NumberOfAddress</th>\n",
       "      <th>OrderAmountHikeFromlastYear</th>\n",
       "      <th>CouponUsed</th>\n",
       "      <th>OrderCount</th>\n",
       "      <th>DaySinceLastOrder</th>\n",
       "      <th>CashbackAmount</th>\n",
       "      <th>...</th>\n",
       "      <th>MaritalStatus_Married</th>\n",
       "      <th>MaritalStatus_Single</th>\n",
       "      <th>Gender_Male</th>\n",
       "      <th>PreferedOrderCat_Grocery</th>\n",
       "      <th>PreferedOrderCat_Laptop &amp; Accessory</th>\n",
       "      <th>PreferedOrderCat_Mobile</th>\n",
       "      <th>PreferedOrderCat_Mobile Phone</th>\n",
       "      <th>PreferedOrderCat_Others</th>\n",
       "      <th>CityTier_2</th>\n",
       "      <th>CityTier_3</th>\n",
       "    </tr>\n",
       "  </thead>\n",
       "  <tbody>\n",
       "    <tr>\n",
       "      <th>1559</th>\n",
       "      <td>-0.003330</td>\n",
       "      <td>-1.329618</td>\n",
       "      <td>-0.676128</td>\n",
       "      <td>1.406929</td>\n",
       "      <td>0.703823</td>\n",
       "      <td>-1.313168</td>\n",
       "      <td>-0.952734</td>\n",
       "      <td>-0.702488</td>\n",
       "      <td>-0.144016</td>\n",
       "      <td>-1.026007</td>\n",
       "      <td>...</td>\n",
       "      <td>0</td>\n",
       "      <td>1</td>\n",
       "      <td>0</td>\n",
       "      <td>0</td>\n",
       "      <td>0</td>\n",
       "      <td>1</td>\n",
       "      <td>0</td>\n",
       "      <td>0</td>\n",
       "      <td>0</td>\n",
       "      <td>0</td>\n",
       "    </tr>\n",
       "    <tr>\n",
       "      <th>993</th>\n",
       "      <td>-0.789668</td>\n",
       "      <td>-1.329618</td>\n",
       "      <td>-0.676128</td>\n",
       "      <td>-1.495702</td>\n",
       "      <td>-0.852765</td>\n",
       "      <td>1.462333</td>\n",
       "      <td>-0.415862</td>\n",
       "      <td>-0.702488</td>\n",
       "      <td>-1.269875</td>\n",
       "      <td>-1.149254</td>\n",
       "      <td>...</td>\n",
       "      <td>1</td>\n",
       "      <td>0</td>\n",
       "      <td>0</td>\n",
       "      <td>0</td>\n",
       "      <td>0</td>\n",
       "      <td>1</td>\n",
       "      <td>0</td>\n",
       "      <td>0</td>\n",
       "      <td>0</td>\n",
       "      <td>0</td>\n",
       "    </tr>\n",
       "    <tr>\n",
       "      <th>1187</th>\n",
       "      <td>0.986726</td>\n",
       "      <td>-0.006023</td>\n",
       "      <td>-2.628450</td>\n",
       "      <td>1.406929</td>\n",
       "      <td>-1.241912</td>\n",
       "      <td>0.352132</td>\n",
       "      <td>-0.415862</td>\n",
       "      <td>-0.702488</td>\n",
       "      <td>-1.269875</td>\n",
       "      <td>-0.964383</td>\n",
       "      <td>...</td>\n",
       "      <td>1</td>\n",
       "      <td>0</td>\n",
       "      <td>1</td>\n",
       "      <td>0</td>\n",
       "      <td>0</td>\n",
       "      <td>1</td>\n",
       "      <td>0</td>\n",
       "      <td>0</td>\n",
       "      <td>1</td>\n",
       "      <td>0</td>\n",
       "    </tr>\n",
       "    <tr>\n",
       "      <th>188</th>\n",
       "      <td>-0.552816</td>\n",
       "      <td>0.091257</td>\n",
       "      <td>-0.676128</td>\n",
       "      <td>0.681271</td>\n",
       "      <td>1.092970</td>\n",
       "      <td>-1.313168</td>\n",
       "      <td>0.121011</td>\n",
       "      <td>1.707447</td>\n",
       "      <td>0.008958</td>\n",
       "      <td>0.863784</td>\n",
       "      <td>...</td>\n",
       "      <td>0</td>\n",
       "      <td>0</td>\n",
       "      <td>0</td>\n",
       "      <td>0</td>\n",
       "      <td>0</td>\n",
       "      <td>0</td>\n",
       "      <td>0</td>\n",
       "      <td>0</td>\n",
       "      <td>0</td>\n",
       "      <td>0</td>\n",
       "    </tr>\n",
       "    <tr>\n",
       "      <th>4630</th>\n",
       "      <td>1.815709</td>\n",
       "      <td>0.091257</td>\n",
       "      <td>0.300033</td>\n",
       "      <td>-1.495702</td>\n",
       "      <td>-0.852765</td>\n",
       "      <td>-0.480518</td>\n",
       "      <td>0.121011</td>\n",
       "      <td>-0.013935</td>\n",
       "      <td>-0.706945</td>\n",
       "      <td>-0.574101</td>\n",
       "      <td>...</td>\n",
       "      <td>1</td>\n",
       "      <td>0</td>\n",
       "      <td>1</td>\n",
       "      <td>0</td>\n",
       "      <td>0</td>\n",
       "      <td>0</td>\n",
       "      <td>1</td>\n",
       "      <td>0</td>\n",
       "      <td>0</td>\n",
       "      <td>1</td>\n",
       "    </tr>\n",
       "  </tbody>\n",
       "</table>\n",
       "<p>5 rows × 34 columns</p>\n",
       "</div>"
      ],
      "text/plain": [
       "      WarehouseToHome  HourSpendOnApp  NumberOfDeviceRegistered  \\\n",
       "1559        -0.003330       -1.329618                 -0.676128   \n",
       "993         -0.789668       -1.329618                 -0.676128   \n",
       "1187         0.986726       -0.006023                 -2.628450   \n",
       "188         -0.552816        0.091257                 -0.676128   \n",
       "4630         1.815709        0.091257                  0.300033   \n",
       "\n",
       "      SatisfactionScore  NumberOfAddress  OrderAmountHikeFromlastYear  \\\n",
       "1559           1.406929         0.703823                    -1.313168   \n",
       "993           -1.495702        -0.852765                     1.462333   \n",
       "1187           1.406929        -1.241912                     0.352132   \n",
       "188            0.681271         1.092970                    -1.313168   \n",
       "4630          -1.495702        -0.852765                    -0.480518   \n",
       "\n",
       "      CouponUsed  OrderCount  DaySinceLastOrder  CashbackAmount  ...  \\\n",
       "1559   -0.952734   -0.702488          -0.144016       -1.026007  ...   \n",
       "993    -0.415862   -0.702488          -1.269875       -1.149254  ...   \n",
       "1187   -0.415862   -0.702488          -1.269875       -0.964383  ...   \n",
       "188     0.121011    1.707447           0.008958        0.863784  ...   \n",
       "4630    0.121011   -0.013935          -0.706945       -0.574101  ...   \n",
       "\n",
       "      MaritalStatus_Married  MaritalStatus_Single  Gender_Male  \\\n",
       "1559                      0                     1            0   \n",
       "993                       1                     0            0   \n",
       "1187                      1                     0            1   \n",
       "188                       0                     0            0   \n",
       "4630                      1                     0            1   \n",
       "\n",
       "      PreferedOrderCat_Grocery  PreferedOrderCat_Laptop & Accessory  \\\n",
       "1559                         0                                    0   \n",
       "993                          0                                    0   \n",
       "1187                         0                                    0   \n",
       "188                          0                                    0   \n",
       "4630                         0                                    0   \n",
       "\n",
       "      PreferedOrderCat_Mobile  PreferedOrderCat_Mobile Phone  \\\n",
       "1559                        1                              0   \n",
       "993                         1                              0   \n",
       "1187                        1                              0   \n",
       "188                         0                              0   \n",
       "4630                        0                              1   \n",
       "\n",
       "      PreferedOrderCat_Others  CityTier_2  CityTier_3  \n",
       "1559                        0           0           0  \n",
       "993                         0           0           0  \n",
       "1187                        0           1           0  \n",
       "188                         0           0           0  \n",
       "4630                        0           0           1  \n",
       "\n",
       "[5 rows x 34 columns]"
      ]
     },
     "execution_count": 45,
     "metadata": {},
     "output_type": "execute_result"
    }
   ],
   "source": [
    "##Scaled train-data\n",
    "df_train.head()"
   ]
  },
  {
   "cell_type": "code",
   "execution_count": 46,
   "id": "e0f21035",
   "metadata": {},
   "outputs": [],
   "source": [
    "##Storing target variable to y_train and y_test respectively\n",
    "y_train = df_train['Churn'].reset_index(drop=True)\n",
    "y_test = df_test['Churn'].reset_index(drop=True)\n",
    "\n",
    "##Storing all feature variables to X_train and X_test\n",
    "X_train = df_train.drop('Churn',axis=1).reset_index(drop=True)\n",
    "X_test = df_test.drop('Churn',axis=1).reset_index(drop=True)"
   ]
  },
  {
   "cell_type": "code",
   "execution_count": 47,
   "id": "7151bfb7",
   "metadata": {},
   "outputs": [
    {
     "name": "stdout",
     "output_type": "stream",
     "text": [
      "Before Resampling, counts of label '1'(train_set): 672\n",
      "Before Resampling, counts of label '0'(train_set): 3268 \n",
      "\n",
      "Before Resampling, churn event rate (Entire Dataset): 16.838% \n",
      "\n"
     ]
    }
   ],
   "source": [
    "##Dealing with class imbalance \n",
    "y= user_app_df_1['Churn']\n",
    "print(\"Before Resampling, counts of label '1'(train_set): {}\".format(sum(y_train==1)))\n",
    "print(\"Before Resampling, counts of label '0'(train_set): {} \\n\".format(sum(y_train==0)))\n",
    "print(\"Before Resampling, churn event rate (Entire Dataset): {}% \\n\".format(round(sum(y==1)/len(y)*100,3)))"
   ]
  },
  {
   "cell_type": "code",
   "execution_count": 48,
   "id": "32880e57",
   "metadata": {},
   "outputs": [
    {
     "name": "stdout",
     "output_type": "stream",
     "text": [
      "Accuracy:  0.8762581409117821\n",
      "F1 score:  0.5011933174224343\n",
      "Recall:  0.38181818181818183\n",
      "Precision:  0.7291666666666666\n",
      "\n",
      " clasification report:\n",
      "               precision    recall  f1-score   support\n",
      "\n",
      "           0       0.89      0.97      0.93      1414\n",
      "           1       0.73      0.38      0.50       275\n",
      "\n",
      "    accuracy                           0.88      1689\n",
      "   macro avg       0.81      0.68      0.72      1689\n",
      "weighted avg       0.86      0.88      0.86      1689\n",
      "\n",
      "\n",
      " confussion matrix:\n",
      " [[1375   39]\n",
      " [ 170  105]]\n"
     ]
    }
   ],
   "source": [
    "# let's build the logistic regression base model and check for stats (on unbalanced class dataset)\n",
    "\n",
    "from collections import Counter\n",
    "from sklearn.metrics import precision_score, recall_score, confusion_matrix, classification_report, accuracy_score, f1_score\n",
    "\n",
    "# logistic regression object \n",
    "from sklearn.linear_model import LogisticRegression\n",
    "log_mod = LogisticRegression() \n",
    "  \n",
    "# train the model on train set \n",
    "log_mod.fit(X_train, y_train.ravel()) \n",
    "predict_train = log_mod.predict(X_train)\n",
    "\n",
    "  \n",
    "# predictions and print classification report  for test data\n",
    "y_pred = log_mod.predict(X_test)\n",
    "\n",
    "\n",
    "print ('Accuracy: ', accuracy_score(y_test, y_pred))\n",
    "print ('F1 score: ', f1_score(y_test, y_pred))\n",
    "print ('Recall: ', recall_score(y_test, y_pred))\n",
    "print ('Precision: ', precision_score(y_test, y_pred))\n",
    "print ('\\n clasification report:\\n', classification_report(y_test,y_pred))\n",
    "print ('\\n confussion matrix:\\n',confusion_matrix(y_test, y_pred))"
   ]
  },
  {
   "cell_type": "markdown",
   "id": "16a86c7f",
   "metadata": {},
   "source": [
    "### Observations:\n",
    "i.  The accuracy is around 87 % but it doesn't conludes as a good evaluation metric as the classes are imbalanced in the \n",
    "    dataset.   \n",
    "ii. The recall of Churned (Sensitivity) is 0.38 low and the recall of Not Churned i.e.(Specificity) is high 0.97.This is not     desired since we need to reduce the False Negatives.  \n",
    "iii.F1 score for Churned is 0.50 which is very low.  \n",
    "vi. For better prediction of Churned, the sensitivity has to be high,Specificity (recall for Not Churned) has to be low and F1 score should be higher.  \n",
    "v. In this problem we will use F1 score as evaluation metric for model because high F1 score means it is effective at correctly    classifying both positive and negative instances in the dataset.  "
   ]
  },
  {
   "cell_type": "markdown",
   "id": "feedceb4",
   "metadata": {},
   "source": [
    "## Step 6: Handling Imbalanced Dataset"
   ]
  },
  {
   "cell_type": "markdown",
   "id": "77a3a60a",
   "metadata": {},
   "source": [
    "#### We can handle imbalanced classes by balancing the classes by increasing minority or decreasing majority.\n",
    "\n",
    "We can do that by following few techniques\n",
    "1. Random Under-Sampling\n",
    "2. Random Over-Sampling\n",
    "3. SMOTE - Synthetic Minority Oversampling Technique\n",
    "4. ADASYN - Adaptive Synthetic Sampling Method\n",
    "5. SMOTETomek - Over-sampling followed by under-sampling\n",
    "6. Tomek Links"
   ]
  },
  {
   "cell_type": "markdown",
   "id": "51c9a4c8",
   "metadata": {},
   "source": [
    "### Using logistic Regression"
   ]
  },
  {
   "cell_type": "code",
   "execution_count": 49,
   "id": "cf414839",
   "metadata": {
    "scrolled": true
   },
   "outputs": [],
   "source": [
    "##SMOTETomek' (SMOTE and Tomek links hybrid technique) to deal with the class imbalance\n",
    "\n",
    "from imblearn.combine import SMOTETomek\n",
    "smote_tomek = SMOTETomek(random_state=42)\n",
    "X_resampled_smt_tmk, y_resampled_smt_tmk= smote_tomek.fit_resample(X_train, y_train)"
   ]
  },
  {
   "cell_type": "code",
   "execution_count": 50,
   "id": "3d89d9b5",
   "metadata": {},
   "outputs": [
    {
     "name": "stdout",
     "output_type": "stream",
     "text": [
      "[(0, 3268), (1, 3268)]\n"
     ]
    }
   ],
   "source": [
    "print(sorted(Counter(y_resampled_smt_tmk).items()))"
   ]
  },
  {
   "cell_type": "code",
   "execution_count": 51,
   "id": "0957186b",
   "metadata": {},
   "outputs": [],
   "source": [
    "lreg_smt_tmk = LogisticRegression()\n",
    "lreg_smt_tmk.fit(X_resampled_smt_tmk, y_resampled_smt_tmk)\n",
    "\n",
    "y_pred_smt_tmk = lreg_smt_tmk.predict(X_test)"
   ]
  },
  {
   "cell_type": "code",
   "execution_count": 52,
   "id": "8f518a28",
   "metadata": {},
   "outputs": [
    {
     "name": "stdout",
     "output_type": "stream",
     "text": [
      "Accuracy:  0.8004736530491415\n",
      "F1 score:  0.5464333781965007\n",
      "Recall:  0.7381818181818182\n",
      "Precision:  0.4337606837606838\n",
      "\n",
      " clasification report:\n",
      "               precision    recall  f1-score   support\n",
      "\n",
      "           0       0.94      0.81      0.87      1414\n",
      "           1       0.43      0.74      0.55       275\n",
      "\n",
      "    accuracy                           0.80      1689\n",
      "   macro avg       0.69      0.78      0.71      1689\n",
      "weighted avg       0.86      0.80      0.82      1689\n",
      "\n",
      "\n",
      " confussion matrix:\n",
      " [[1149  265]\n",
      " [  72  203]]\n"
     ]
    }
   ],
   "source": [
    "print ('Accuracy: ', accuracy_score(y_test, y_pred_smt_tmk))\n",
    "print ('F1 score: ', f1_score(y_test, y_pred_smt_tmk))\n",
    "print ('Recall: ', recall_score(y_test, y_pred_smt_tmk))\n",
    "print ('Precision: ', precision_score(y_test, y_pred_smt_tmk))\n",
    "print ('\\n clasification report:\\n', classification_report(y_test,y_pred_smt_tmk))\n",
    "print ('\\n confussion matrix:\\n',confusion_matrix(y_test, y_pred_smt_tmk))"
   ]
  },
  {
   "cell_type": "code",
   "execution_count": 53,
   "id": "2be57c82",
   "metadata": {},
   "outputs": [
    {
     "data": {
      "text/plain": [
       "1344"
      ]
     },
     "execution_count": 53,
     "metadata": {},
     "output_type": "execute_result"
    }
   ],
   "source": [
    "# Random Undersampling\n",
    "from imblearn.under_sampling import RandomUnderSampler\n",
    "under_sample = RandomUnderSampler(random_state = 5)\n",
    "X_resampled_us, y_resampled_us = under_sample.fit_resample(X_train, y_train)\n",
    "len(X_resampled_us)"
   ]
  },
  {
   "cell_type": "code",
   "execution_count": 54,
   "id": "f3b0dc99",
   "metadata": {},
   "outputs": [
    {
     "name": "stdout",
     "output_type": "stream",
     "text": [
      "[(0, 672), (1, 672)]\n"
     ]
    }
   ],
   "source": [
    "print(sorted(Counter(y_resampled_us).items()))"
   ]
  },
  {
   "cell_type": "code",
   "execution_count": 55,
   "id": "838303db",
   "metadata": {},
   "outputs": [],
   "source": [
    "lreg_us = LogisticRegression()\n",
    "lreg_us.fit(X_resampled_us, y_resampled_us)\n",
    "\n",
    "y_pred_us = lreg_us.predict(X_test)"
   ]
  },
  {
   "cell_type": "code",
   "execution_count": 56,
   "id": "102d1c78",
   "metadata": {},
   "outputs": [
    {
     "name": "stdout",
     "output_type": "stream",
     "text": [
      "Accuracy:  0.7738306690349319\n",
      "F1 score:  0.5419664268585132\n",
      "Recall:  0.8218181818181818\n",
      "Precision:  0.40429338103756707\n",
      "\n",
      " clasification report:\n",
      "               precision    recall  f1-score   support\n",
      "\n",
      "           0       0.96      0.76      0.85      1414\n",
      "           1       0.40      0.82      0.54       275\n",
      "\n",
      "    accuracy                           0.77      1689\n",
      "   macro avg       0.68      0.79      0.70      1689\n",
      "weighted avg       0.87      0.77      0.80      1689\n",
      "\n",
      "\n",
      " confussion matrix:\n",
      " [[1081  333]\n",
      " [  49  226]]\n"
     ]
    }
   ],
   "source": [
    "print ('Accuracy: ', accuracy_score(y_test, y_pred_us))\n",
    "print ('F1 score: ', f1_score(y_test, y_pred_us))\n",
    "print ('Recall: ', recall_score(y_test, y_pred_us))\n",
    "print ('Precision: ', precision_score(y_test, y_pred_us))\n",
    "print ('\\n clasification report:\\n', classification_report(y_test,y_pred_us))\n",
    "print ('\\n confussion matrix:\\n',confusion_matrix(y_test, y_pred_us))"
   ]
  },
  {
   "cell_type": "code",
   "execution_count": 57,
   "id": "8aeb40b1",
   "metadata": {},
   "outputs": [
    {
     "data": {
      "text/plain": [
       "3922"
      ]
     },
     "execution_count": 57,
     "metadata": {},
     "output_type": "execute_result"
    }
   ],
   "source": [
    "# Tomek Links\n",
    "from imblearn.under_sampling import TomekLinks\n",
    "tomek_sample = TomekLinks(sampling_strategy='majority')\n",
    "X_resampled_tomek, y_resampled_tomek = tomek_sample.fit_resample(X_train, y_train)\n",
    "len(X_resampled_tomek)"
   ]
  },
  {
   "cell_type": "code",
   "execution_count": 58,
   "id": "981469f7",
   "metadata": {},
   "outputs": [
    {
     "name": "stdout",
     "output_type": "stream",
     "text": [
      "[(0, 3250), (1, 672)]\n"
     ]
    }
   ],
   "source": [
    "print(sorted(Counter(y_resampled_tomek).items()))"
   ]
  },
  {
   "cell_type": "code",
   "execution_count": 59,
   "id": "509f4a7c",
   "metadata": {},
   "outputs": [],
   "source": [
    "lreg_tomek = LogisticRegression()\n",
    "lreg_tomek.fit(X_resampled_tomek, y_resampled_tomek)\n",
    "\n",
    "y_pred_tomek = lreg_tomek.predict(X_test)"
   ]
  },
  {
   "cell_type": "code",
   "execution_count": 60,
   "id": "7764dcc9",
   "metadata": {},
   "outputs": [
    {
     "name": "stdout",
     "output_type": "stream",
     "text": [
      "Accuracy:  0.8756660746003553\n",
      "F1 score:  0.5000000000000001\n",
      "Recall:  0.38181818181818183\n",
      "Precision:  0.7241379310344828\n",
      "\n",
      " clasification report:\n",
      "               precision    recall  f1-score   support\n",
      "\n",
      "           0       0.89      0.97      0.93      1414\n",
      "           1       0.72      0.38      0.50       275\n",
      "\n",
      "    accuracy                           0.88      1689\n",
      "   macro avg       0.81      0.68      0.71      1689\n",
      "weighted avg       0.86      0.88      0.86      1689\n",
      "\n",
      "\n",
      " confussion matrix:\n",
      " [[1374   40]\n",
      " [ 170  105]]\n"
     ]
    }
   ],
   "source": [
    "print ('Accuracy: ', accuracy_score(y_test, y_pred_tomek))\n",
    "print ('F1 score: ', f1_score(y_test, y_pred_tomek))\n",
    "print ('Recall: ', recall_score(y_test, y_pred_tomek))\n",
    "print ('Precision: ', precision_score(y_test, y_pred_tomek))\n",
    "print ('\\n clasification report:\\n', classification_report(y_test,y_pred_tomek))\n",
    "print ('\\n confussion matrix:\\n',confusion_matrix(y_test, y_pred_tomek))"
   ]
  },
  {
   "cell_type": "code",
   "execution_count": 61,
   "id": "66d6c1d8",
   "metadata": {},
   "outputs": [
    {
     "data": {
      "text/plain": [
       "6536"
      ]
     },
     "execution_count": 61,
     "metadata": {},
     "output_type": "execute_result"
    }
   ],
   "source": [
    "# Random OverSampling\n",
    "from imblearn.over_sampling import RandomOverSampler\n",
    "over_sample = RandomOverSampler(sampling_strategy = 1)\n",
    "X_resampled_os, y_resampled_os = over_sample.fit_resample(X_train, y_train)\n",
    "len(X_resampled_os)"
   ]
  },
  {
   "cell_type": "code",
   "execution_count": 62,
   "id": "93324276",
   "metadata": {},
   "outputs": [
    {
     "name": "stdout",
     "output_type": "stream",
     "text": [
      "[(0, 3268), (1, 3268)]\n"
     ]
    }
   ],
   "source": [
    "print(sorted(Counter(y_resampled_os).items()))"
   ]
  },
  {
   "cell_type": "code",
   "execution_count": 63,
   "id": "6baf0bd3",
   "metadata": {},
   "outputs": [],
   "source": [
    "lreg_os = LogisticRegression()\n",
    "lreg_os.fit(X_resampled_os, y_resampled_os)\n",
    "\n",
    "y_pred_os = lreg_os.predict(X_test)"
   ]
  },
  {
   "cell_type": "code",
   "execution_count": 64,
   "id": "785fbb88",
   "metadata": {},
   "outputs": [
    {
     "name": "stdout",
     "output_type": "stream",
     "text": [
      "Accuracy:  0.7892243931320307\n",
      "F1 score:  0.5572139303482587\n",
      "Recall:  0.8145454545454546\n",
      "Precision:  0.42344045368620037\n",
      "\n",
      " clasification report:\n",
      "               precision    recall  f1-score   support\n",
      "\n",
      "           0       0.96      0.78      0.86      1414\n",
      "           1       0.42      0.81      0.56       275\n",
      "\n",
      "    accuracy                           0.79      1689\n",
      "   macro avg       0.69      0.80      0.71      1689\n",
      "weighted avg       0.87      0.79      0.81      1689\n",
      "\n",
      "\n",
      " confussion matrix:\n",
      " [[1109  305]\n",
      " [  51  224]]\n"
     ]
    }
   ],
   "source": [
    "print ('Accuracy: ', accuracy_score(y_test, y_pred_os))\n",
    "print ('F1 score: ', f1_score(y_test, y_pred_os))\n",
    "print ('Recall: ', recall_score(y_test, y_pred_os))\n",
    "print ('Precision: ', precision_score(y_test, y_pred_os))\n",
    "print ('\\n clasification report:\\n', classification_report(y_test,y_pred_os))\n",
    "print ('\\n confussion matrix:\\n',confusion_matrix(y_test, y_pred_os))"
   ]
  },
  {
   "cell_type": "code",
   "execution_count": 65,
   "id": "aa7a0ebe",
   "metadata": {},
   "outputs": [
    {
     "data": {
      "text/plain": [
       "6536"
      ]
     },
     "execution_count": 65,
     "metadata": {},
     "output_type": "execute_result"
    }
   ],
   "source": [
    "# SMOTE\n",
    "from imblearn.over_sampling import SMOTE\n",
    "smt = SMOTE(random_state=45, k_neighbors=5)\n",
    "X_resampled_smt, y_resampled_smt = smt.fit_resample(X_train, y_train)\n",
    "len(X_resampled_smt)"
   ]
  },
  {
   "cell_type": "code",
   "execution_count": 66,
   "id": "6eb56a0d",
   "metadata": {},
   "outputs": [
    {
     "name": "stdout",
     "output_type": "stream",
     "text": [
      "[(0, 3268), (1, 3268)]\n"
     ]
    }
   ],
   "source": [
    "print(sorted(Counter(y_resampled_smt).items()))"
   ]
  },
  {
   "cell_type": "code",
   "execution_count": 67,
   "id": "99f36788",
   "metadata": {},
   "outputs": [],
   "source": [
    "lreg_smt = LogisticRegression()\n",
    "lreg_smt.fit(X_resampled_smt, y_resampled_smt)\n",
    "\n",
    "y_pred_smt = lreg_smt.predict(X_test)"
   ]
  },
  {
   "cell_type": "code",
   "execution_count": 68,
   "id": "4c907f50",
   "metadata": {},
   "outputs": [
    {
     "name": "stdout",
     "output_type": "stream",
     "text": [
      "Accuracy:  0.7969212551805802\n",
      "F1 score:  0.5320600272851296\n",
      "Recall:  0.7090909090909091\n",
      "Precision:  0.425764192139738\n",
      "\n",
      " clasification report:\n",
      "               precision    recall  f1-score   support\n",
      "\n",
      "           0       0.94      0.81      0.87      1414\n",
      "           1       0.43      0.71      0.53       275\n",
      "\n",
      "    accuracy                           0.80      1689\n",
      "   macro avg       0.68      0.76      0.70      1689\n",
      "weighted avg       0.85      0.80      0.82      1689\n",
      "\n",
      "\n",
      " confussion matrix:\n",
      " [[1151  263]\n",
      " [  80  195]]\n"
     ]
    }
   ],
   "source": [
    "print ('Accuracy: ', accuracy_score(y_test, y_pred_smt))\n",
    "print ('F1 score: ', f1_score(y_test, y_pred_smt))\n",
    "print ('Recall: ', recall_score(y_test, y_pred_smt))\n",
    "print ('Precision: ', precision_score(y_test, y_pred_smt))\n",
    "print ('\\n clasification report:\\n', classification_report(y_test,y_pred_smt))\n",
    "print ('\\n confussion matrix:\\n',confusion_matrix(y_test, y_pred_smt))"
   ]
  },
  {
   "cell_type": "code",
   "execution_count": 69,
   "id": "3283229a",
   "metadata": {},
   "outputs": [
    {
     "data": {
      "text/plain": [
       "6448"
      ]
     },
     "execution_count": 69,
     "metadata": {},
     "output_type": "execute_result"
    }
   ],
   "source": [
    "# ADASYN\n",
    "from imblearn.over_sampling import ADASYN\n",
    "ada = ADASYN(random_state=45, n_neighbors=5)\n",
    "X_resampled_ada, y_resampled_ada = ada.fit_resample(X_train, y_train)\n",
    "len(X_resampled_ada)"
   ]
  },
  {
   "cell_type": "code",
   "execution_count": 70,
   "id": "d8734980",
   "metadata": {},
   "outputs": [],
   "source": [
    "lreg_ada = LogisticRegression()\n",
    "lreg_ada.fit(X_resampled_ada, y_resampled_ada)\n",
    "\n",
    "y_pred_ada = lreg_ada.predict(X_test)"
   ]
  },
  {
   "cell_type": "code",
   "execution_count": 71,
   "id": "b3649e9a",
   "metadata": {},
   "outputs": [
    {
     "name": "stdout",
     "output_type": "stream",
     "text": [
      "Accuracy:  0.7927767910005921\n",
      "F1 score:  0.5295698924731183\n",
      "Recall:  0.7163636363636363\n",
      "Precision:  0.4200426439232409\n",
      "\n",
      " clasification report:\n",
      "               precision    recall  f1-score   support\n",
      "\n",
      "           0       0.94      0.81      0.87      1414\n",
      "           1       0.42      0.72      0.53       275\n",
      "\n",
      "    accuracy                           0.79      1689\n",
      "   macro avg       0.68      0.76      0.70      1689\n",
      "weighted avg       0.85      0.79      0.81      1689\n",
      "\n",
      "\n",
      " confussion matrix:\n",
      " [[1142  272]\n",
      " [  78  197]]\n"
     ]
    }
   ],
   "source": [
    "print ('Accuracy: ', accuracy_score(y_test, y_pred_ada))\n",
    "print ('F1 score: ', f1_score(y_test, y_pred_ada))\n",
    "print ('Recall: ', recall_score(y_test, y_pred_ada))\n",
    "print ('Precision: ', precision_score(y_test, y_pred_ada))\n",
    "print ('\\n clasification report:\\n', classification_report(y_test,y_pred_ada))\n",
    "print ('\\n confussion matrix:\\n',confusion_matrix(y_test, y_pred_ada))"
   ]
  },
  {
   "cell_type": "markdown",
   "id": "430ee445",
   "metadata": {},
   "source": [
    "### Using Decision Trees"
   ]
  },
  {
   "cell_type": "code",
   "execution_count": 72,
   "id": "e6d60edf",
   "metadata": {},
   "outputs": [],
   "source": [
    "from sklearn.model_selection import train_test_split\n",
    "np.random.seed(0)\n",
    "df_train, df_test = train_test_split(user_app_df, train_size=0.7, test_size = 0.3, random_state=42)"
   ]
  },
  {
   "cell_type": "code",
   "execution_count": 73,
   "id": "28873575",
   "metadata": {},
   "outputs": [],
   "source": [
    "# Dataframe with binary columns\n",
    "df_binary_train = df_train.loc[:, binary_cols_list]\n",
    "df_binary_test =df_test.loc[:, binary_cols_list]\n",
    "\n",
    "##Dropping binary dummy variables and we shall concat them later to preserve the scale\n",
    "df_train = df_train.drop( binary_cols_list, axis=1)\n",
    "df_test = df_test.drop( binary_cols_list, axis=1)\n",
    "\n",
    "##StandardScaler\n",
    "from sklearn.preprocessing import StandardScaler\n",
    "all_colms = df_train.columns\n",
    "scaler = StandardScaler()\n",
    "\n",
    "#scaler fit_transform on train data\n",
    "df_train[all_colms] = scaler.fit_transform(df_train[all_colms])\n",
    "#concat dummies:Train set\n",
    "df_train = pd.concat([df_train, df_binary_train], axis=1)\n",
    "\n",
    "#scaler transform on test data\n",
    "df_test[all_colms] = scaler.transform(df_test[all_colms])\n",
    "#concat dummies: Test set\n",
    "df_test = pd.concat([df_test, df_binary_test], axis=1)"
   ]
  },
  {
   "cell_type": "code",
   "execution_count": 74,
   "id": "653699f2",
   "metadata": {},
   "outputs": [
    {
     "name": "stdout",
     "output_type": "stream",
     "text": [
      "(3940, 34)\n",
      "(1689, 34)\n"
     ]
    }
   ],
   "source": [
    "print(df_train.shape)\n",
    "print(df_test.shape)"
   ]
  },
  {
   "cell_type": "code",
   "execution_count": 75,
   "id": "9cd82378",
   "metadata": {},
   "outputs": [],
   "source": [
    "##Storing target variable to y_train and y_test respectively\n",
    "y_train = df_train['Churn'].reset_index(drop=True)\n",
    "y_test = df_test['Churn'].reset_index(drop=True)\n",
    "\n",
    "##Storing all feature variables to X_train and X_test\n",
    "X_train = df_train.drop('Churn',axis=1).reset_index(drop=True)\n",
    "X_test = df_test.drop('Churn',axis=1).reset_index(drop=True)"
   ]
  },
  {
   "cell_type": "code",
   "execution_count": 76,
   "id": "2e0e099e",
   "metadata": {},
   "outputs": [],
   "source": [
    "# Decision Trees - Base\n",
    "from sklearn.tree import DecisionTreeClassifier\n",
    "dt_base = DecisionTreeClassifier(random_state=42, max_depth=4)"
   ]
  },
  {
   "cell_type": "code",
   "execution_count": 77,
   "id": "a034e940",
   "metadata": {},
   "outputs": [
    {
     "data": {
      "text/html": [
       "<style>#sk-container-id-1 {color: black;background-color: white;}#sk-container-id-1 pre{padding: 0;}#sk-container-id-1 div.sk-toggleable {background-color: white;}#sk-container-id-1 label.sk-toggleable__label {cursor: pointer;display: block;width: 100%;margin-bottom: 0;padding: 0.3em;box-sizing: border-box;text-align: center;}#sk-container-id-1 label.sk-toggleable__label-arrow:before {content: \"▸\";float: left;margin-right: 0.25em;color: #696969;}#sk-container-id-1 label.sk-toggleable__label-arrow:hover:before {color: black;}#sk-container-id-1 div.sk-estimator:hover label.sk-toggleable__label-arrow:before {color: black;}#sk-container-id-1 div.sk-toggleable__content {max-height: 0;max-width: 0;overflow: hidden;text-align: left;background-color: #f0f8ff;}#sk-container-id-1 div.sk-toggleable__content pre {margin: 0.2em;color: black;border-radius: 0.25em;background-color: #f0f8ff;}#sk-container-id-1 input.sk-toggleable__control:checked~div.sk-toggleable__content {max-height: 200px;max-width: 100%;overflow: auto;}#sk-container-id-1 input.sk-toggleable__control:checked~label.sk-toggleable__label-arrow:before {content: \"▾\";}#sk-container-id-1 div.sk-estimator input.sk-toggleable__control:checked~label.sk-toggleable__label {background-color: #d4ebff;}#sk-container-id-1 div.sk-label input.sk-toggleable__control:checked~label.sk-toggleable__label {background-color: #d4ebff;}#sk-container-id-1 input.sk-hidden--visually {border: 0;clip: rect(1px 1px 1px 1px);clip: rect(1px, 1px, 1px, 1px);height: 1px;margin: -1px;overflow: hidden;padding: 0;position: absolute;width: 1px;}#sk-container-id-1 div.sk-estimator {font-family: monospace;background-color: #f0f8ff;border: 1px dotted black;border-radius: 0.25em;box-sizing: border-box;margin-bottom: 0.5em;}#sk-container-id-1 div.sk-estimator:hover {background-color: #d4ebff;}#sk-container-id-1 div.sk-parallel-item::after {content: \"\";width: 100%;border-bottom: 1px solid gray;flex-grow: 1;}#sk-container-id-1 div.sk-label:hover label.sk-toggleable__label {background-color: #d4ebff;}#sk-container-id-1 div.sk-serial::before {content: \"\";position: absolute;border-left: 1px solid gray;box-sizing: border-box;top: 0;bottom: 0;left: 50%;z-index: 0;}#sk-container-id-1 div.sk-serial {display: flex;flex-direction: column;align-items: center;background-color: white;padding-right: 0.2em;padding-left: 0.2em;position: relative;}#sk-container-id-1 div.sk-item {position: relative;z-index: 1;}#sk-container-id-1 div.sk-parallel {display: flex;align-items: stretch;justify-content: center;background-color: white;position: relative;}#sk-container-id-1 div.sk-item::before, #sk-container-id-1 div.sk-parallel-item::before {content: \"\";position: absolute;border-left: 1px solid gray;box-sizing: border-box;top: 0;bottom: 0;left: 50%;z-index: -1;}#sk-container-id-1 div.sk-parallel-item {display: flex;flex-direction: column;z-index: 1;position: relative;background-color: white;}#sk-container-id-1 div.sk-parallel-item:first-child::after {align-self: flex-end;width: 50%;}#sk-container-id-1 div.sk-parallel-item:last-child::after {align-self: flex-start;width: 50%;}#sk-container-id-1 div.sk-parallel-item:only-child::after {width: 0;}#sk-container-id-1 div.sk-dashed-wrapped {border: 1px dashed gray;margin: 0 0.4em 0.5em 0.4em;box-sizing: border-box;padding-bottom: 0.4em;background-color: white;}#sk-container-id-1 div.sk-label label {font-family: monospace;font-weight: bold;display: inline-block;line-height: 1.2em;}#sk-container-id-1 div.sk-label-container {text-align: center;}#sk-container-id-1 div.sk-container {/* jupyter's `normalize.less` sets `[hidden] { display: none; }` but bootstrap.min.css set `[hidden] { display: none !important; }` so we also need the `!important` here to be able to override the default hidden behavior on the sphinx rendered scikit-learn.org. See: https://github.com/scikit-learn/scikit-learn/issues/21755 */display: inline-block !important;position: relative;}#sk-container-id-1 div.sk-text-repr-fallback {display: none;}</style><div id=\"sk-container-id-1\" class=\"sk-top-container\"><div class=\"sk-text-repr-fallback\"><pre>DecisionTreeClassifier(max_depth=4, random_state=42)</pre><b>In a Jupyter environment, please rerun this cell to show the HTML representation or trust the notebook. <br />On GitHub, the HTML representation is unable to render, please try loading this page with nbviewer.org.</b></div><div class=\"sk-container\" hidden><div class=\"sk-item\"><div class=\"sk-estimator sk-toggleable\"><input class=\"sk-toggleable__control sk-hidden--visually\" id=\"sk-estimator-id-1\" type=\"checkbox\" checked><label for=\"sk-estimator-id-1\" class=\"sk-toggleable__label sk-toggleable__label-arrow\">DecisionTreeClassifier</label><div class=\"sk-toggleable__content\"><pre>DecisionTreeClassifier(max_depth=4, random_state=42)</pre></div></div></div></div></div>"
      ],
      "text/plain": [
       "DecisionTreeClassifier(max_depth=4, random_state=42)"
      ]
     },
     "execution_count": 77,
     "metadata": {},
     "output_type": "execute_result"
    }
   ],
   "source": [
    "dt_base.fit(X_train, y_train)"
   ]
  },
  {
   "cell_type": "code",
   "execution_count": 78,
   "id": "773aae9e",
   "metadata": {},
   "outputs": [],
   "source": [
    "y_pred_rf = dt_base.predict(X_test)"
   ]
  },
  {
   "cell_type": "code",
   "execution_count": 79,
   "id": "6b833fcf",
   "metadata": {},
   "outputs": [
    {
     "name": "stdout",
     "output_type": "stream",
     "text": [
      "Accuracy:  0.8543516873889876\n",
      "F1 score:  0.4484304932735426\n",
      "Recall:  0.36363636363636365\n",
      "Precision:  0.5847953216374269\n",
      "\n",
      " clasification report:\n",
      "               precision    recall  f1-score   support\n",
      "\n",
      "           0       0.88      0.95      0.92      1414\n",
      "           1       0.58      0.36      0.45       275\n",
      "\n",
      "    accuracy                           0.85      1689\n",
      "   macro avg       0.73      0.66      0.68      1689\n",
      "weighted avg       0.84      0.85      0.84      1689\n",
      "\n",
      "\n",
      " confussion matrix:\n",
      " [[1343   71]\n",
      " [ 175  100]]\n"
     ]
    }
   ],
   "source": [
    "print ('Accuracy: ', accuracy_score(y_test, y_pred_rf))\n",
    "print ('F1 score: ', f1_score(y_test, y_pred_rf))\n",
    "print ('Recall: ', recall_score(y_test, y_pred_rf))\n",
    "print ('Precision: ', precision_score(y_test, y_pred_rf))\n",
    "print ('\\n clasification report:\\n', classification_report(y_test,y_pred_rf))\n",
    "print ('\\n confussion matrix:\\n',confusion_matrix(y_test, y_pred_rf))"
   ]
  },
  {
   "cell_type": "code",
   "execution_count": 80,
   "id": "dfc5998b",
   "metadata": {},
   "outputs": [],
   "source": [
    "# SMOTE+TOMEK\n",
    "from sklearn.tree import DecisionTreeClassifier\n",
    "dtc_smt_tmk = DecisionTreeClassifier(random_state=0)\n",
    "dtc_smt_tmk.fit(X_resampled_smt_tmk, y_resampled_smt_tmk)\n",
    "\n",
    "y_pred_dtc_smt_tmk = dtc_smt_tmk.predict(X_test)"
   ]
  },
  {
   "cell_type": "code",
   "execution_count": 81,
   "id": "f557275a",
   "metadata": {},
   "outputs": [
    {
     "name": "stdout",
     "output_type": "stream",
     "text": [
      "Accuracy:  0.8756660746003553\n",
      "F1 score:  0.6428571428571428\n",
      "Recall:  0.6872727272727273\n",
      "Precision:  0.6038338658146964\n",
      "\n",
      " clasification report:\n",
      "               precision    recall  f1-score   support\n",
      "\n",
      "           0       0.94      0.91      0.92      1414\n",
      "           1       0.60      0.69      0.64       275\n",
      "\n",
      "    accuracy                           0.88      1689\n",
      "   macro avg       0.77      0.80      0.78      1689\n",
      "weighted avg       0.88      0.88      0.88      1689\n",
      "\n",
      "\n",
      " confussion matrix:\n",
      " [[1290  124]\n",
      " [  86  189]]\n"
     ]
    }
   ],
   "source": [
    "print ('Accuracy: ', accuracy_score(y_test, y_pred_dtc_smt_tmk))\n",
    "print ('F1 score: ', f1_score(y_test, y_pred_dtc_smt_tmk))\n",
    "print ('Recall: ', recall_score(y_test, y_pred_dtc_smt_tmk))\n",
    "print ('Precision: ', precision_score(y_test, y_pred_dtc_smt_tmk))\n",
    "print ('\\n clasification report:\\n', classification_report(y_test,y_pred_dtc_smt_tmk))\n",
    "print ('\\n confussion matrix:\\n',confusion_matrix(y_test, y_pred_dtc_smt_tmk))"
   ]
  },
  {
   "cell_type": "code",
   "execution_count": 82,
   "id": "ff458f81",
   "metadata": {},
   "outputs": [
    {
     "data": {
      "text/plain": [
       "6448"
      ]
     },
     "execution_count": 82,
     "metadata": {},
     "output_type": "execute_result"
    }
   ],
   "source": [
    "# ADASYN\n",
    "from imblearn.over_sampling import ADASYN\n",
    "ada = ADASYN(random_state=45, n_neighbors=5)\n",
    "X_resampled_ada, y_resampled_ada = ada.fit_resample(X_train, y_train)\n",
    "len(X_resampled_ada)"
   ]
  },
  {
   "cell_type": "code",
   "execution_count": 83,
   "id": "9e1bd174",
   "metadata": {},
   "outputs": [],
   "source": [
    "# Decision Trees - ADASYN\n",
    "from sklearn.tree import DecisionTreeClassifier\n",
    "dtc_ada = DecisionTreeClassifier(random_state=0)\n",
    "dtc_ada.fit(X_resampled_ada, y_resampled_ada)\n",
    "\n",
    "y_pred_dtc_ada = dtc_ada.predict(X_test)"
   ]
  },
  {
   "cell_type": "code",
   "execution_count": 84,
   "id": "fa4b1522",
   "metadata": {},
   "outputs": [
    {
     "name": "stdout",
     "output_type": "stream",
     "text": [
      "Accuracy:  0.8809946714031972\n",
      "F1 score:  0.6621848739495797\n",
      "Recall:  0.7163636363636363\n",
      "Precision:  0.615625\n",
      "\n",
      " clasification report:\n",
      "               precision    recall  f1-score   support\n",
      "\n",
      "           0       0.94      0.91      0.93      1414\n",
      "           1       0.62      0.72      0.66       275\n",
      "\n",
      "    accuracy                           0.88      1689\n",
      "   macro avg       0.78      0.81      0.79      1689\n",
      "weighted avg       0.89      0.88      0.88      1689\n",
      "\n",
      "\n",
      " confussion matrix:\n",
      " [[1291  123]\n",
      " [  78  197]]\n"
     ]
    }
   ],
   "source": [
    "print ('Accuracy: ', accuracy_score(y_test, y_pred_dtc_ada))\n",
    "print ('F1 score: ', f1_score(y_test, y_pred_dtc_ada))\n",
    "print ('Recall: ', recall_score(y_test, y_pred_dtc_ada))\n",
    "print ('Precision: ', precision_score(y_test, y_pred_dtc_ada))\n",
    "print ('\\n clasification report:\\n', classification_report(y_test,y_pred_dtc_ada))\n",
    "print ('\\n confussion matrix:\\n',confusion_matrix(y_test, y_pred_dtc_ada))"
   ]
  },
  {
   "cell_type": "code",
   "execution_count": 85,
   "id": "142bfa89",
   "metadata": {},
   "outputs": [
    {
     "data": {
      "text/plain": [
       "1344"
      ]
     },
     "execution_count": 85,
     "metadata": {},
     "output_type": "execute_result"
    }
   ],
   "source": [
    "# Random Undersampling\n",
    "from imblearn.under_sampling import RandomUnderSampler\n",
    "under_sample = RandomUnderSampler(random_state = 5)\n",
    "X_resampled_us, y_resampled_us = under_sample.fit_resample(X_train, y_train)\n",
    "len(X_resampled_us)"
   ]
  },
  {
   "cell_type": "code",
   "execution_count": 86,
   "id": "25e147af",
   "metadata": {},
   "outputs": [],
   "source": [
    "# Decision Trees - Random UnderSampling\n",
    "from sklearn.tree import DecisionTreeClassifier\n",
    "dtc_us = DecisionTreeClassifier(random_state=0)\n",
    "dtc_us.fit(X_resampled_us, y_resampled_us)\n",
    "\n",
    "y_pred_dtc_us = dtc_us.predict(X_test)"
   ]
  },
  {
   "cell_type": "code",
   "execution_count": 87,
   "id": "3431248a",
   "metadata": {},
   "outputs": [
    {
     "name": "stdout",
     "output_type": "stream",
     "text": [
      "Accuracy:  0.7756068679692125\n",
      "F1 score:  0.5482717520858164\n",
      "Recall:  0.8363636363636363\n",
      "Precision:  0.4078014184397163\n",
      "\n",
      " clasification report:\n",
      "               precision    recall  f1-score   support\n",
      "\n",
      "           0       0.96      0.76      0.85      1414\n",
      "           1       0.41      0.84      0.55       275\n",
      "\n",
      "    accuracy                           0.78      1689\n",
      "   macro avg       0.68      0.80      0.70      1689\n",
      "weighted avg       0.87      0.78      0.80      1689\n",
      "\n",
      "\n",
      " confussion matrix:\n",
      " [[1080  334]\n",
      " [  45  230]]\n"
     ]
    }
   ],
   "source": [
    "print ('Accuracy: ', accuracy_score(y_test, y_pred_dtc_us))\n",
    "print ('F1 score: ', f1_score(y_test, y_pred_dtc_us))\n",
    "print ('Recall: ', recall_score(y_test, y_pred_dtc_us))\n",
    "print ('Precision: ', precision_score(y_test, y_pred_dtc_us))\n",
    "print ('\\n clasification report:\\n', classification_report(y_test,y_pred_dtc_us))\n",
    "print ('\\n confussion matrix:\\n',confusion_matrix(y_test, y_pred_dtc_us))"
   ]
  },
  {
   "cell_type": "code",
   "execution_count": 88,
   "id": "75da97b3",
   "metadata": {},
   "outputs": [
    {
     "data": {
      "text/plain": [
       "3922"
      ]
     },
     "execution_count": 88,
     "metadata": {},
     "output_type": "execute_result"
    }
   ],
   "source": [
    "# Tomek Links\n",
    "from imblearn.under_sampling import TomekLinks\n",
    "tomek_sample = TomekLinks(sampling_strategy='majority')\n",
    "X_resampled_tomek, y_resampled_tomek = tomek_sample.fit_resample(X_train, y_train)\n",
    "len(X_resampled_tomek)"
   ]
  },
  {
   "cell_type": "code",
   "execution_count": 89,
   "id": "9cd8a1d0",
   "metadata": {},
   "outputs": [],
   "source": [
    "# Decision Trees - Tomek Links\n",
    "from sklearn.tree import DecisionTreeClassifier\n",
    "dtc_tomek = DecisionTreeClassifier(random_state=0)\n",
    "dtc_tomek.fit(X_resampled_tomek, y_resampled_tomek)\n",
    "\n",
    "y_pred_dtc_tomek = dtc_tomek.predict(X_test)"
   ]
  },
  {
   "cell_type": "code",
   "execution_count": 90,
   "id": "36e7c1de",
   "metadata": {},
   "outputs": [
    {
     "name": "stdout",
     "output_type": "stream",
     "text": [
      "Accuracy:  0.9295441089402013\n",
      "F1 score:  0.7930434782608696\n",
      "Recall:  0.8290909090909091\n",
      "Precision:  0.76\n",
      "\n",
      " clasification report:\n",
      "               precision    recall  f1-score   support\n",
      "\n",
      "           0       0.97      0.95      0.96      1414\n",
      "           1       0.76      0.83      0.79       275\n",
      "\n",
      "    accuracy                           0.93      1689\n",
      "   macro avg       0.86      0.89      0.88      1689\n",
      "weighted avg       0.93      0.93      0.93      1689\n",
      "\n",
      "\n",
      " confussion matrix:\n",
      " [[1342   72]\n",
      " [  47  228]]\n"
     ]
    }
   ],
   "source": [
    "print ('Accuracy: ', accuracy_score(y_test, y_pred_dtc_tomek))\n",
    "print ('F1 score: ', f1_score(y_test, y_pred_dtc_tomek))\n",
    "print ('Recall: ', recall_score(y_test, y_pred_dtc_tomek))\n",
    "print ('Precision: ', precision_score(y_test, y_pred_dtc_tomek))\n",
    "print ('\\n clasification report:\\n', classification_report(y_test,y_pred_dtc_tomek))\n",
    "print ('\\n confussion matrix:\\n',confusion_matrix(y_test, y_pred_dtc_tomek))"
   ]
  },
  {
   "cell_type": "code",
   "execution_count": 91,
   "id": "2a01782a",
   "metadata": {},
   "outputs": [
    {
     "data": {
      "text/plain": [
       "6536"
      ]
     },
     "execution_count": 91,
     "metadata": {},
     "output_type": "execute_result"
    }
   ],
   "source": [
    "# Random OverSampling\n",
    "from imblearn.over_sampling import RandomOverSampler\n",
    "over_sample = RandomOverSampler(sampling_strategy = 1)\n",
    "X_resampled_os, y_resampled_os = over_sample.fit_resample(X_train, y_train)\n",
    "len(X_resampled_os)"
   ]
  },
  {
   "cell_type": "code",
   "execution_count": 92,
   "id": "1ca7c364",
   "metadata": {},
   "outputs": [],
   "source": [
    "# Decision Trees - Random Over-Sampling\n",
    "from sklearn.tree import DecisionTreeClassifier\n",
    "dtc_os = DecisionTreeClassifier(random_state=0)\n",
    "dtc_os.fit(X_resampled_os, y_resampled_os)\n",
    "\n",
    "y_pred_dtc_os = dtc_os.predict(X_test)"
   ]
  },
  {
   "cell_type": "code",
   "execution_count": 93,
   "id": "f540b7ce",
   "metadata": {},
   "outputs": [
    {
     "name": "stdout",
     "output_type": "stream",
     "text": [
      "Accuracy:  0.9200710479573713\n",
      "F1 score:  0.7619047619047618\n",
      "Recall:  0.7854545454545454\n",
      "Precision:  0.7397260273972602\n",
      "\n",
      " clasification report:\n",
      "               precision    recall  f1-score   support\n",
      "\n",
      "           0       0.96      0.95      0.95      1414\n",
      "           1       0.74      0.79      0.76       275\n",
      "\n",
      "    accuracy                           0.92      1689\n",
      "   macro avg       0.85      0.87      0.86      1689\n",
      "weighted avg       0.92      0.92      0.92      1689\n",
      "\n",
      "\n",
      " confussion matrix:\n",
      " [[1338   76]\n",
      " [  59  216]]\n"
     ]
    }
   ],
   "source": [
    "print ('Accuracy: ', accuracy_score(y_test, y_pred_dtc_os))\n",
    "print ('F1 score: ', f1_score(y_test, y_pred_dtc_os))\n",
    "print ('Recall: ', recall_score(y_test, y_pred_dtc_os))\n",
    "print ('Precision: ', precision_score(y_test, y_pred_dtc_os))\n",
    "print ('\\n clasification report:\\n', classification_report(y_test,y_pred_dtc_os))\n",
    "print ('\\n confussion matrix:\\n',confusion_matrix(y_test, y_pred_dtc_os))"
   ]
  },
  {
   "cell_type": "code",
   "execution_count": 94,
   "id": "bcd3b11e",
   "metadata": {},
   "outputs": [
    {
     "data": {
      "text/plain": [
       "6536"
      ]
     },
     "execution_count": 94,
     "metadata": {},
     "output_type": "execute_result"
    }
   ],
   "source": [
    "# SMOTE\n",
    "from imblearn.over_sampling import SMOTE\n",
    "smt = SMOTE(random_state=45, k_neighbors=5)\n",
    "X_resampled_smt, y_resampled_smt = smt.fit_resample(X_train, y_train)\n",
    "len(X_resampled_smt)"
   ]
  },
  {
   "cell_type": "code",
   "execution_count": 95,
   "id": "79239387",
   "metadata": {},
   "outputs": [],
   "source": [
    "# Decision Trees - SMOTE\n",
    "from sklearn.tree import DecisionTreeClassifier\n",
    "dtc_smt = DecisionTreeClassifier(random_state=0)\n",
    "dtc_smt.fit(X_resampled_smt, y_resampled_smt)\n",
    "\n",
    "y_pred_dtc_smt = dtc_smt.predict(X_test)"
   ]
  },
  {
   "cell_type": "code",
   "execution_count": 96,
   "id": "6a9e4d31",
   "metadata": {},
   "outputs": [
    {
     "name": "stdout",
     "output_type": "stream",
     "text": [
      "Accuracy:  0.8768502072232089\n",
      "F1 score:  0.6521739130434783\n",
      "Recall:  0.7090909090909091\n",
      "Precision:  0.6037151702786377\n",
      "\n",
      " clasification report:\n",
      "               precision    recall  f1-score   support\n",
      "\n",
      "           0       0.94      0.91      0.93      1414\n",
      "           1       0.60      0.71      0.65       275\n",
      "\n",
      "    accuracy                           0.88      1689\n",
      "   macro avg       0.77      0.81      0.79      1689\n",
      "weighted avg       0.89      0.88      0.88      1689\n",
      "\n",
      "\n",
      " confussion matrix:\n",
      " [[1286  128]\n",
      " [  80  195]]\n"
     ]
    }
   ],
   "source": [
    "print ('Accuracy: ', accuracy_score(y_test, y_pred_dtc_smt))\n",
    "print ('F1 score: ', f1_score(y_test, y_pred_dtc_smt))\n",
    "print ('Recall: ', recall_score(y_test, y_pred_dtc_smt))\n",
    "print ('Precision: ', precision_score(y_test, y_pred_dtc_smt))\n",
    "print ('\\n clasification report:\\n', classification_report(y_test,y_pred_dtc_smt))\n",
    "print ('\\n confussion matrix:\\n',confusion_matrix(y_test, y_pred_dtc_smt))"
   ]
  },
  {
   "cell_type": "markdown",
   "id": "e5928ec3",
   "metadata": {},
   "source": [
    "### Using Random Forest"
   ]
  },
  {
   "cell_type": "code",
   "execution_count": 97,
   "id": "618deed2",
   "metadata": {},
   "outputs": [],
   "source": [
    "# Random Forest - Base\n",
    "from sklearn.ensemble import RandomForestClassifier\n",
    "rf = RandomForestClassifier(random_state=42)\n",
    "rf.fit(X_train, y_train)\n",
    "\n",
    "y_pred_rf = rf.predict(X_test)"
   ]
  },
  {
   "cell_type": "code",
   "execution_count": 98,
   "id": "2b47a143",
   "metadata": {},
   "outputs": [
    {
     "name": "stdout",
     "output_type": "stream",
     "text": [
      "Accuracy:  0.9431616341030196\n",
      "F1 score:  0.7966101694915253\n",
      "Recall:  0.6836363636363636\n",
      "Precision:  0.9543147208121827\n",
      "\n",
      " clasification report:\n",
      "               precision    recall  f1-score   support\n",
      "\n",
      "           0       0.94      0.99      0.97      1414\n",
      "           1       0.95      0.68      0.80       275\n",
      "\n",
      "    accuracy                           0.94      1689\n",
      "   macro avg       0.95      0.84      0.88      1689\n",
      "weighted avg       0.94      0.94      0.94      1689\n",
      "\n",
      "\n",
      " confussion matrix:\n",
      " [[1405    9]\n",
      " [  87  188]]\n"
     ]
    }
   ],
   "source": [
    "print ('Accuracy: ', accuracy_score(y_test, y_pred_rf))\n",
    "print ('F1 score: ', f1_score(y_test, y_pred_rf))\n",
    "print ('Recall: ', recall_score(y_test, y_pred_rf))\n",
    "print ('Precision: ', precision_score(y_test, y_pred_rf))\n",
    "print ('\\n clasification report:\\n', classification_report(y_test,y_pred_rf))\n",
    "print ('\\n confussion matrix:\\n',confusion_matrix(y_test, y_pred_rf))"
   ]
  },
  {
   "cell_type": "code",
   "execution_count": 99,
   "id": "9dfadb2b",
   "metadata": {},
   "outputs": [],
   "source": [
    "# Random Forest - Random UnderSampling\n",
    "rf_us = RandomForestClassifier(random_state=42)\n",
    "rf_us.fit(X_resampled_us, y_resampled_us)\n",
    "\n",
    "y_pred_rf_us = rf_us.predict(X_test)"
   ]
  },
  {
   "cell_type": "code",
   "execution_count": 100,
   "id": "f7e96f64",
   "metadata": {},
   "outputs": [
    {
     "name": "stdout",
     "output_type": "stream",
     "text": [
      "Accuracy:  0.866785079928952\n",
      "F1 score:  0.6887966804979252\n",
      "Recall:  0.9054545454545454\n",
      "Precision:  0.5558035714285714\n",
      "\n",
      " clasification report:\n",
      "               precision    recall  f1-score   support\n",
      "\n",
      "           0       0.98      0.86      0.92      1414\n",
      "           1       0.56      0.91      0.69       275\n",
      "\n",
      "    accuracy                           0.87      1689\n",
      "   macro avg       0.77      0.88      0.80      1689\n",
      "weighted avg       0.91      0.87      0.88      1689\n",
      "\n",
      "\n",
      " confussion matrix:\n",
      " [[1215  199]\n",
      " [  26  249]]\n"
     ]
    }
   ],
   "source": [
    "print ('Accuracy: ', accuracy_score(y_test, y_pred_rf_us))\n",
    "print ('F1 score: ', f1_score(y_test, y_pred_rf_us))\n",
    "print ('Recall: ', recall_score(y_test, y_pred_rf_us))\n",
    "print ('Precision: ', precision_score(y_test, y_pred_rf_us))\n",
    "print ('\\n clasification report:\\n', classification_report(y_test,y_pred_rf_us))\n",
    "print ('\\n confussion matrix:\\n',confusion_matrix(y_test, y_pred_rf_us))"
   ]
  },
  {
   "cell_type": "code",
   "execution_count": 101,
   "id": "2c2f9534",
   "metadata": {},
   "outputs": [],
   "source": [
    "# Random Forest - Tomek Links\n",
    "rf_tomek = RandomForestClassifier(random_state=42)\n",
    "rf_tomek.fit(X_resampled_tomek, y_resampled_tomek)\n",
    "\n",
    "y_pred_rf_tomek = rf_tomek.predict(X_test)"
   ]
  },
  {
   "cell_type": "code",
   "execution_count": 102,
   "id": "864d10d8",
   "metadata": {},
   "outputs": [
    {
     "name": "stdout",
     "output_type": "stream",
     "text": [
      "Accuracy:  0.9461219656601539\n",
      "F1 score:  0.8100208768267223\n",
      "Recall:  0.7054545454545454\n",
      "Precision:  0.9509803921568627\n",
      "\n",
      " clasification report:\n",
      "               precision    recall  f1-score   support\n",
      "\n",
      "           0       0.95      0.99      0.97      1414\n",
      "           1       0.95      0.71      0.81       275\n",
      "\n",
      "    accuracy                           0.95      1689\n",
      "   macro avg       0.95      0.85      0.89      1689\n",
      "weighted avg       0.95      0.95      0.94      1689\n",
      "\n",
      "\n",
      " confussion matrix:\n",
      " [[1404   10]\n",
      " [  81  194]]\n"
     ]
    }
   ],
   "source": [
    "print ('Accuracy: ', accuracy_score(y_test, y_pred_rf_tomek))\n",
    "print ('F1 score: ', f1_score(y_test, y_pred_rf_tomek))\n",
    "print ('Recall: ', recall_score(y_test, y_pred_rf_tomek))\n",
    "print ('Precision: ', precision_score(y_test, y_pred_rf_tomek))\n",
    "print ('\\n clasification report:\\n', classification_report(y_test,y_pred_rf_tomek))\n",
    "print ('\\n confussion matrix:\\n',confusion_matrix(y_test, y_pred_rf_tomek))"
   ]
  },
  {
   "cell_type": "code",
   "execution_count": 103,
   "id": "35af80c9",
   "metadata": {},
   "outputs": [],
   "source": [
    "# Random Forest - Random Over-Sampling\n",
    "rf_os = RandomForestClassifier(random_state=42)\n",
    "over_sample = RandomOverSampler(sampling_strategy = 1)\n",
    "rf_os.fit(X_resampled_os, y_resampled_os)\n",
    "\n",
    "y_pred_rf_os = rf_os.predict(X_test)"
   ]
  },
  {
   "cell_type": "code",
   "execution_count": 104,
   "id": "fd23daf1",
   "metadata": {},
   "outputs": [
    {
     "name": "stdout",
     "output_type": "stream",
     "text": [
      "Accuracy:  0.9573712255772646\n",
      "F1 score:  0.856\n",
      "Recall:  0.7781818181818182\n",
      "Precision:  0.9511111111111111\n",
      "\n",
      " clasification report:\n",
      "               precision    recall  f1-score   support\n",
      "\n",
      "           0       0.96      0.99      0.97      1414\n",
      "           1       0.95      0.78      0.86       275\n",
      "\n",
      "    accuracy                           0.96      1689\n",
      "   macro avg       0.95      0.89      0.92      1689\n",
      "weighted avg       0.96      0.96      0.96      1689\n",
      "\n",
      "\n",
      " confussion matrix:\n",
      " [[1403   11]\n",
      " [  61  214]]\n"
     ]
    }
   ],
   "source": [
    "print ('Accuracy: ', accuracy_score(y_test, y_pred_rf_os))\n",
    "print ('F1 score: ', f1_score(y_test, y_pred_rf_os))\n",
    "print ('Recall: ', recall_score(y_test, y_pred_rf_os))\n",
    "print ('Precision: ', precision_score(y_test, y_pred_rf_os))\n",
    "print ('\\n clasification report:\\n', classification_report(y_test,y_pred_rf_os))\n",
    "print ('\\n confussion matrix:\\n',confusion_matrix(y_test, y_pred_rf_os))"
   ]
  },
  {
   "cell_type": "code",
   "execution_count": 105,
   "id": "0a2a7498",
   "metadata": {},
   "outputs": [],
   "source": [
    "# Random Forest - SMOTE\n",
    "rf_smt = RandomForestClassifier(random_state=42)\n",
    "rf_smt.fit(X_resampled_smt, y_resampled_smt)\n",
    "\n",
    "y_pred_rf_smt = rf_smt.predict(X_test)"
   ]
  },
  {
   "cell_type": "code",
   "execution_count": 106,
   "id": "55f4ac46",
   "metadata": {},
   "outputs": [
    {
     "name": "stdout",
     "output_type": "stream",
     "text": [
      "Accuracy:  0.9354647720544701\n",
      "F1 score:  0.7850098619329388\n",
      "Recall:  0.7236363636363636\n",
      "Precision:  0.8577586206896551\n",
      "\n",
      " clasification report:\n",
      "               precision    recall  f1-score   support\n",
      "\n",
      "           0       0.95      0.98      0.96      1414\n",
      "           1       0.86      0.72      0.79       275\n",
      "\n",
      "    accuracy                           0.94      1689\n",
      "   macro avg       0.90      0.85      0.87      1689\n",
      "weighted avg       0.93      0.94      0.93      1689\n",
      "\n",
      "\n",
      " confussion matrix:\n",
      " [[1381   33]\n",
      " [  76  199]]\n"
     ]
    }
   ],
   "source": [
    "print ('Accuracy: ', accuracy_score(y_test, y_pred_rf_smt))\n",
    "print ('F1 score: ', f1_score(y_test, y_pred_rf_smt))\n",
    "print ('Recall: ', recall_score(y_test, y_pred_rf_smt))\n",
    "print ('Precision: ', precision_score(y_test, y_pred_rf_smt))\n",
    "print ('\\n clasification report:\\n', classification_report(y_test,y_pred_rf_smt))\n",
    "print ('\\n confussion matrix:\\n',confusion_matrix(y_test, y_pred_rf_smt))"
   ]
  },
  {
   "cell_type": "code",
   "execution_count": 107,
   "id": "42bf1bba",
   "metadata": {},
   "outputs": [],
   "source": [
    "# Random Forest - ADASYN\n",
    "rf_ada = RandomForestClassifier(random_state=42)\n",
    "rf_ada.fit(X_resampled_ada, y_resampled_ada)\n",
    "\n",
    "y_pred_rf_ada = rf_ada.predict(X_test)"
   ]
  },
  {
   "cell_type": "code",
   "execution_count": 108,
   "id": "cfaba42f",
   "metadata": {},
   "outputs": [
    {
     "name": "stdout",
     "output_type": "stream",
     "text": [
      "Accuracy:  0.9372409709887507\n",
      "F1 score:  0.7862903225806451\n",
      "Recall:  0.7090909090909091\n",
      "Precision:  0.8823529411764706\n",
      "\n",
      " clasification report:\n",
      "               precision    recall  f1-score   support\n",
      "\n",
      "           0       0.95      0.98      0.96      1414\n",
      "           1       0.88      0.71      0.79       275\n",
      "\n",
      "    accuracy                           0.94      1689\n",
      "   macro avg       0.91      0.85      0.87      1689\n",
      "weighted avg       0.94      0.94      0.93      1689\n",
      "\n",
      "\n",
      " confussion matrix:\n",
      " [[1388   26]\n",
      " [  80  195]]\n"
     ]
    }
   ],
   "source": [
    "print ('Accuracy: ', accuracy_score(y_test, y_pred_rf_ada))\n",
    "print ('F1 score: ', f1_score(y_test, y_pred_rf_ada))\n",
    "print ('Recall: ', recall_score(y_test, y_pred_rf_ada))\n",
    "print ('Precision: ', precision_score(y_test, y_pred_rf_ada))\n",
    "print ('\\n clasification report:\\n', classification_report(y_test,y_pred_rf_ada))\n",
    "print ('\\n confussion matrix:\\n',confusion_matrix(y_test, y_pred_rf_ada))"
   ]
  },
  {
   "cell_type": "code",
   "execution_count": 109,
   "id": "9adc681b",
   "metadata": {},
   "outputs": [],
   "source": [
    "# Random Forest - SMOTE+TOMEK\n",
    "rf_smt_tmk = RandomForestClassifier(random_state=42)\n",
    "rf_smt_tmk.fit(X_resampled_smt_tmk, y_resampled_smt_tmk)\n",
    "\n",
    "y_pred_rf_smt_tmk = rf_smt_tmk.predict(X_test)"
   ]
  },
  {
   "cell_type": "code",
   "execution_count": 110,
   "id": "5a17a1fe",
   "metadata": {},
   "outputs": [
    {
     "name": "stdout",
     "output_type": "stream",
     "text": [
      "Accuracy:  0.9372409709887507\n",
      "F1 score:  0.7896825396825398\n",
      "Recall:  0.7236363636363636\n",
      "Precision:  0.868995633187773\n",
      "\n",
      " clasification report:\n",
      "               precision    recall  f1-score   support\n",
      "\n",
      "           0       0.95      0.98      0.96      1414\n",
      "           1       0.87      0.72      0.79       275\n",
      "\n",
      "    accuracy                           0.94      1689\n",
      "   macro avg       0.91      0.85      0.88      1689\n",
      "weighted avg       0.94      0.94      0.93      1689\n",
      "\n",
      "\n",
      " confussion matrix:\n",
      " [[1384   30]\n",
      " [  76  199]]\n"
     ]
    }
   ],
   "source": [
    "print ('Accuracy: ', accuracy_score(y_test, y_pred_rf_smt_tmk))\n",
    "print ('F1 score: ', f1_score(y_test, y_pred_rf_smt_tmk))\n",
    "print ('Recall: ', recall_score(y_test, y_pred_rf_smt_tmk))\n",
    "print ('Precision: ', precision_score(y_test, y_pred_rf_smt_tmk))\n",
    "print ('\\n clasification report:\\n', classification_report(y_test,y_pred_rf_smt_tmk))\n",
    "print ('\\n confussion matrix:\\n',confusion_matrix(y_test, y_pred_rf_smt_tmk))"
   ]
  },
  {
   "cell_type": "markdown",
   "id": "af0392b4",
   "metadata": {},
   "source": [
    "#### As we can see from above resampling techniques that, F1 score using Random Forest- Random oversampling technique  is 0.86.\n",
    "#### We will pick up 'Random Forest- Random oversampling technique' method."
   ]
  },
  {
   "cell_type": "markdown",
   "id": "83a76500",
   "metadata": {},
   "source": [
    "## Step 7: Model Building "
   ]
  },
  {
   "cell_type": "code",
   "execution_count": 111,
   "id": "a410673a",
   "metadata": {},
   "outputs": [
    {
     "name": "stdout",
     "output_type": "stream",
     "text": [
      "After Random overersampling, the shape of train_X: (6536, 33)\n",
      "After Random overersampling, the shape of train_y: (6536,) \n",
      "\n",
      "After Random overersampling, counts of label '1': 3268\n",
      "After Random overersampling, counts of label '0': 3268\n",
      "After Random overersampling, churn event rate : 50.0% \n",
      "\n"
     ]
    }
   ],
   "source": [
    "##Implementing 'Random OverSampling' technique to deal with the class imbalance\n",
    "\n",
    "from imblearn.over_sampling import RandomOverSampler\n",
    "over_sample = RandomOverSampler(sampling_strategy = 1)\n",
    "X_resampled_os, y_resampled_os = over_sample.fit_resample(X_train, y_train)\n",
    "\n",
    "print('After Random overersampling, the shape of train_X: {}'.format(X_resampled_os.shape))\n",
    "print('After Random overersampling, the shape of train_y: {} \\n'.format(y_resampled_os.shape))\n",
    "\n",
    "print(\"After Random overersampling, counts of label '1': {}\".format(sum(y_resampled_os==1)))\n",
    "print(\"After Random overersampling, counts of label '0': {}\".format(sum(y_resampled_os==0)))\n",
    "print(\"After Random overersampling, churn event rate : {}% \\n\".format(round(sum(y_resampled_os==1)/len(y_resampled_os)*100,2)))"
   ]
  },
  {
   "cell_type": "code",
   "execution_count": 112,
   "id": "3808b0d2",
   "metadata": {},
   "outputs": [
    {
     "data": {
      "image/png": "[encoded data removed]",
      "text/plain": [
       "<Figure size 800x600 with 1 Axes>"
      ]
     },
     "metadata": {},
     "output_type": "display_data"
    }
   ],
   "source": [
    "# ROC curve for the model before hyperparameter tuning\n",
    "\n",
    "from sklearn.metrics import roc_curve, roc_auc_score\n",
    "\n",
    "# Get predicted probabilities for the positive class\n",
    "y_pred_proba_rf_os = rf_os.predict_proba(X_test)[:, 1]\n",
    "\n",
    "# Calculate ROC curve\n",
    "fpr_rf_os, tpr_rf_os, thresholds_rf_os = roc_curve(y_test, y_pred_proba_rf_os)\n",
    "\n",
    "# Calculate ROC AUC score\n",
    "roc_auc_rf_os = roc_auc_score(y_test, y_pred_proba_rf_os)\n",
    "\n",
    "# Plot the ROC curve for the model before hyperparameter tuning\n",
    "plt.figure(figsize=(8, 6))\n",
    "plt.plot(fpr_rf_os, tpr_rf_os, color='r', lw=2, label=f'ROC curve (AUC = {roc_auc_rf_os:.2f})')\n",
    "plt.xlabel('FPR')\n",
    "plt.ylabel('TPR')\n",
    "plt.legend(loc='lower right')\n",
    "plt.title('ROC Curve (Before Hyperparameter Tuning')\n",
    "plt.show()"
   ]
  },
  {
   "cell_type": "markdown",
   "id": "7809ce83",
   "metadata": {},
   "source": [
    "### Hyperparameter Tuning:"
   ]
  },
  {
   "cell_type": "code",
   "execution_count": 113,
   "id": "bdd8785d",
   "metadata": {},
   "outputs": [],
   "source": [
    "from sklearn.model_selection import GridSearchCV\n",
    "from sklearn.metrics import make_scorer, f1_score\n",
    "\n",
    "# Define the parameter grid for hyperparameter tuning\n",
    "param_grid = {\n",
    "    'n_estimators': [50, 100, 200],\n",
    "    'max_depth': [None, 10, 20],\n",
    "    'min_samples_split': [2, 5, 10],\n",
    "    'min_samples_leaf': [1, 2, 4]\n",
    "}"
   ]
  },
  {
   "cell_type": "code",
   "execution_count": 114,
   "id": "9422c969",
   "metadata": {},
   "outputs": [],
   "source": [
    "# Create a Random Forest classifier\n",
    "rf = RandomForestClassifier(random_state=42)\n",
    "\n",
    "# Create a scorer for Grid Search (F1-score as the scoring metric)\n",
    "scorer = make_scorer(f1_score)"
   ]
  },
  {
   "cell_type": "code",
   "execution_count": 115,
   "id": "dd41a352",
   "metadata": {},
   "outputs": [
    {
     "data": {
      "text/html": [
       "<style>#sk-container-id-2 {color: black;background-color: white;}#sk-container-id-2 pre{padding: 0;}#sk-container-id-2 div.sk-toggleable {background-color: white;}#sk-container-id-2 label.sk-toggleable__label {cursor: pointer;display: block;width: 100%;margin-bottom: 0;padding: 0.3em;box-sizing: border-box;text-align: center;}#sk-container-id-2 label.sk-toggleable__label-arrow:before {content: \"▸\";float: left;margin-right: 0.25em;color: #696969;}#sk-container-id-2 label.sk-toggleable__label-arrow:hover:before {color: black;}#sk-container-id-2 div.sk-estimator:hover label.sk-toggleable__label-arrow:before {color: black;}#sk-container-id-2 div.sk-toggleable__content {max-height: 0;max-width: 0;overflow: hidden;text-align: left;background-color: #f0f8ff;}#sk-container-id-2 div.sk-toggleable__content pre {margin: 0.2em;color: black;border-radius: 0.25em;background-color: #f0f8ff;}#sk-container-id-2 input.sk-toggleable__control:checked~div.sk-toggleable__content {max-height: 200px;max-width: 100%;overflow: auto;}#sk-container-id-2 input.sk-toggleable__control:checked~label.sk-toggleable__label-arrow:before {content: \"▾\";}#sk-container-id-2 div.sk-estimator input.sk-toggleable__control:checked~label.sk-toggleable__label {background-color: #d4ebff;}#sk-container-id-2 div.sk-label input.sk-toggleable__control:checked~label.sk-toggleable__label {background-color: #d4ebff;}#sk-container-id-2 input.sk-hidden--visually {border: 0;clip: rect(1px 1px 1px 1px);clip: rect(1px, 1px, 1px, 1px);height: 1px;margin: -1px;overflow: hidden;padding: 0;position: absolute;width: 1px;}#sk-container-id-2 div.sk-estimator {font-family: monospace;background-color: #f0f8ff;border: 1px dotted black;border-radius: 0.25em;box-sizing: border-box;margin-bottom: 0.5em;}#sk-container-id-2 div.sk-estimator:hover {background-color: #d4ebff;}#sk-container-id-2 div.sk-parallel-item::after {content: \"\";width: 100%;border-bottom: 1px solid gray;flex-grow: 1;}#sk-container-id-2 div.sk-label:hover label.sk-toggleable__label {background-color: #d4ebff;}#sk-container-id-2 div.sk-serial::before {content: \"\";position: absolute;border-left: 1px solid gray;box-sizing: border-box;top: 0;bottom: 0;left: 50%;z-index: 0;}#sk-container-id-2 div.sk-serial {display: flex;flex-direction: column;align-items: center;background-color: white;padding-right: 0.2em;padding-left: 0.2em;position: relative;}#sk-container-id-2 div.sk-item {position: relative;z-index: 1;}#sk-container-id-2 div.sk-parallel {display: flex;align-items: stretch;justify-content: center;background-color: white;position: relative;}#sk-container-id-2 div.sk-item::before, #sk-container-id-2 div.sk-parallel-item::before {content: \"\";position: absolute;border-left: 1px solid gray;box-sizing: border-box;top: 0;bottom: 0;left: 50%;z-index: -1;}#sk-container-id-2 div.sk-parallel-item {display: flex;flex-direction: column;z-index: 1;position: relative;background-color: white;}#sk-container-id-2 div.sk-parallel-item:first-child::after {align-self: flex-end;width: 50%;}#sk-container-id-2 div.sk-parallel-item:last-child::after {align-self: flex-start;width: 50%;}#sk-container-id-2 div.sk-parallel-item:only-child::after {width: 0;}#sk-container-id-2 div.sk-dashed-wrapped {border: 1px dashed gray;margin: 0 0.4em 0.5em 0.4em;box-sizing: border-box;padding-bottom: 0.4em;background-color: white;}#sk-container-id-2 div.sk-label label {font-family: monospace;font-weight: bold;display: inline-block;line-height: 1.2em;}#sk-container-id-2 div.sk-label-container {text-align: center;}#sk-container-id-2 div.sk-container {/* jupyter's `normalize.less` sets `[hidden] { display: none; }` but bootstrap.min.css set `[hidden] { display: none !important; }` so we also need the `!important` here to be able to override the default hidden behavior on the sphinx rendered scikit-learn.org. See: https://github.com/scikit-learn/scikit-learn/issues/21755 */display: inline-block !important;position: relative;}#sk-container-id-2 div.sk-text-repr-fallback {display: none;}</style><div id=\"sk-container-id-2\" class=\"sk-top-container\"><div class=\"sk-text-repr-fallback\"><pre>GridSearchCV(cv=5, estimator=RandomForestClassifier(random_state=42),\n",
       "             param_grid={&#x27;max_depth&#x27;: [None, 10, 20],\n",
       "                         &#x27;min_samples_leaf&#x27;: [1, 2, 4],\n",
       "                         &#x27;min_samples_split&#x27;: [2, 5, 10],\n",
       "                         &#x27;n_estimators&#x27;: [50, 100, 200]},\n",
       "             scoring=make_scorer(f1_score))</pre><b>In a Jupyter environment, please rerun this cell to show the HTML representation or trust the notebook. <br />On GitHub, the HTML representation is unable to render, please try loading this page with nbviewer.org.</b></div><div class=\"sk-container\" hidden><div class=\"sk-item sk-dashed-wrapped\"><div class=\"sk-label-container\"><div class=\"sk-label sk-toggleable\"><input class=\"sk-toggleable__control sk-hidden--visually\" id=\"sk-estimator-id-2\" type=\"checkbox\" ><label for=\"sk-estimator-id-2\" class=\"sk-toggleable__label sk-toggleable__label-arrow\">GridSearchCV</label><div class=\"sk-toggleable__content\"><pre>GridSearchCV(cv=5, estimator=RandomForestClassifier(random_state=42),\n",
       "             param_grid={&#x27;max_depth&#x27;: [None, 10, 20],\n",
       "                         &#x27;min_samples_leaf&#x27;: [1, 2, 4],\n",
       "                         &#x27;min_samples_split&#x27;: [2, 5, 10],\n",
       "                         &#x27;n_estimators&#x27;: [50, 100, 200]},\n",
       "             scoring=make_scorer(f1_score))</pre></div></div></div><div class=\"sk-parallel\"><div class=\"sk-parallel-item\"><div class=\"sk-item\"><div class=\"sk-label-container\"><div class=\"sk-label sk-toggleable\"><input class=\"sk-toggleable__control sk-hidden--visually\" id=\"sk-estimator-id-3\" type=\"checkbox\" ><label for=\"sk-estimator-id-3\" class=\"sk-toggleable__label sk-toggleable__label-arrow\">estimator: RandomForestClassifier</label><div class=\"sk-toggleable__content\"><pre>RandomForestClassifier(random_state=42)</pre></div></div></div><div class=\"sk-serial\"><div class=\"sk-item\"><div class=\"sk-estimator sk-toggleable\"><input class=\"sk-toggleable__control sk-hidden--visually\" id=\"sk-estimator-id-4\" type=\"checkbox\" ><label for=\"sk-estimator-id-4\" class=\"sk-toggleable__label sk-toggleable__label-arrow\">RandomForestClassifier</label><div class=\"sk-toggleable__content\"><pre>RandomForestClassifier(random_state=42)</pre></div></div></div></div></div></div></div></div></div></div>"
      ],
      "text/plain": [
       "GridSearchCV(cv=5, estimator=RandomForestClassifier(random_state=42),\n",
       "             param_grid={'max_depth': [None, 10, 20],\n",
       "                         'min_samples_leaf': [1, 2, 4],\n",
       "                         'min_samples_split': [2, 5, 10],\n",
       "                         'n_estimators': [50, 100, 200]},\n",
       "             scoring=make_scorer(f1_score))"
      ]
     },
     "execution_count": 115,
     "metadata": {},
     "output_type": "execute_result"
    }
   ],
   "source": [
    "# Perform Grid Search with Cross-Validation\n",
    "grid_search = GridSearchCV(estimator=rf, param_grid=param_grid, cv=5, scoring=scorer)\n",
    "grid_search.fit(X_resampled_os, y_resampled_os)"
   ]
  },
  {
   "cell_type": "code",
   "execution_count": 116,
   "id": "bdc782eb",
   "metadata": {},
   "outputs": [
    {
     "name": "stdout",
     "output_type": "stream",
     "text": [
      "Best Hyperparameters: {'max_depth': None, 'min_samples_leaf': 1, 'min_samples_split': 2, 'n_estimators': 50}\n"
     ]
    }
   ],
   "source": [
    "# Get the best hyperparameters and best model\n",
    "best_params = grid_search.best_params_\n",
    "best_rf_model = grid_search.best_estimator_\n",
    "\n",
    "print(\"Best Hyperparameters:\", best_params)"
   ]
  },
  {
   "cell_type": "code",
   "execution_count": 117,
   "id": "6dd3f611",
   "metadata": {},
   "outputs": [
    {
     "name": "stdout",
     "output_type": "stream",
     "text": [
      "Accuracy: 1.0\n",
      "Recall: 1.0\n",
      "Precision: 1.0\n",
      "F1 Score: 1.0\n"
     ]
    }
   ],
   "source": [
    "from sklearn.metrics import accuracy_score, recall_score, precision_score, f1_score\n",
    "\n",
    "# Make predictions using the best model on the training data\n",
    "y_train_pred = best_rf_model.predict(X_resampled_os)\n",
    "\n",
    "# Calculate accuracy, recall, precision, and F1 score on the training data\n",
    "accuracy = accuracy_score(y_resampled_os, y_train_pred)\n",
    "recall = recall_score(y_resampled_os, y_train_pred)\n",
    "precision = precision_score(y_resampled_os, y_train_pred)\n",
    "f1 = f1_score(y_resampled_os, y_train_pred)\n",
    "print(\"Accuracy:\", accuracy)\n",
    "print(\"Recall:\", recall)\n",
    "print(\"Precision:\", precision)\n",
    "print(\"F1 Score:\", f1)"
   ]
  },
  {
   "cell_type": "code",
   "execution_count": 118,
   "id": "ca1d951f",
   "metadata": {},
   "outputs": [
    {
     "data": {
      "image/png": "[encoded data removed]",
      "text/plain": [
       "<Figure size 800x600 with 1 Axes>"
      ]
     },
     "metadata": {},
     "output_type": "display_data"
    }
   ],
   "source": [
    "# Get predicted probabilities for the positive class\n",
    "y_pred_proba = best_rf_model.predict_proba(X_test)[:, 1]\n",
    "\n",
    "# Calculate ROC curve\n",
    "fpr, tpr, thresholds = roc_curve(y_test, y_pred_proba)\n",
    "\n",
    "# Calculate ROC AUC score\n",
    "roc_auc = roc_auc_score(y_test, y_pred_proba)\n",
    "\n",
    "# Plot the ROC curve\n",
    "plt.figure(figsize=(8, 6))\n",
    "plt.plot(fpr_rf_os, tpr_rf_os, color='r', lw=2, label=f'ROC curve (AUC = {roc_auc_rf_os:.2f})')\n",
    "plt.xlabel('FPR')\n",
    "plt.ylabel('TPR')\n",
    "plt.legend(loc='lower right')\n",
    "plt.title('ROC Curve (of Best Model')\n",
    "plt.show()"
   ]
  },
  {
   "cell_type": "code",
   "execution_count": 119,
   "id": "746ef922",
   "metadata": {},
   "outputs": [],
   "source": [
    "# Evaluate the best model on the test set\n",
    "y_pred_best = best_rf_model.predict(X_test)"
   ]
  },
  {
   "cell_type": "code",
   "execution_count": 120,
   "id": "b173230a",
   "metadata": {},
   "outputs": [
    {
     "name": "stdout",
     "output_type": "stream",
     "text": [
      "Accuracy (Best Model): 0.9514505624629959\n",
      "F1 score (Best Model): 0.836\n",
      "Recall (Best Model): 0.76\n",
      "Precision (Best Model): 0.9288888888888889\n"
     ]
    }
   ],
   "source": [
    "# Calculate evaluation metrics for the best model\n",
    "accuracy_best = accuracy_score(y_test, y_pred_best)\n",
    "f1_best = f1_score(y_test, y_pred_best)\n",
    "recall_best = recall_score(y_test, y_pred_best)\n",
    "precision_best = precision_score(y_test, y_pred_best)\n",
    "\n",
    "print('Accuracy (Best Model):', accuracy_best)\n",
    "print('F1 score (Best Model):', f1_best)\n",
    "print('Recall (Best Model):', recall_best)\n",
    "print('Precision (Best Model):', precision_best)"
   ]
  },
  {
   "cell_type": "code",
   "execution_count": 121,
   "id": "177edf2f",
   "metadata": {},
   "outputs": [
    {
     "data": {
      "text/plain": [
       "array([8.73060271e-02, 2.10835964e-02, 3.87148019e-02, 5.89274305e-02,\n",
       "       6.65481415e-02, 6.81087231e-02, 2.90644333e-02, 3.94508067e-02,\n",
       "       7.55702516e-02, 9.57002014e-02, 7.86265574e-02, 4.75373986e-02,\n",
       "       3.19202224e-02, 1.83019659e-05, 1.46958319e-05, 1.73425505e-02,\n",
       "       1.03649800e-02, 1.10305101e-02, 4.21125665e-03, 1.66765208e-02,\n",
       "       1.67186493e-02, 1.03649750e-02, 8.44546902e-03, 1.71638755e-02,\n",
       "       3.71253091e-02, 2.23729041e-02, 4.01943966e-03, 2.34328370e-02,\n",
       "       7.99369016e-03, 1.76878631e-02, 3.20368332e-03, 5.58730906e-03,\n",
       "       2.76665879e-02])"
      ]
     },
     "execution_count": 121,
     "metadata": {},
     "output_type": "execute_result"
    }
   ],
   "source": [
    "best_rf_model.feature_importances_"
   ]
  },
  {
   "cell_type": "code",
   "execution_count": 122,
   "id": "7348a3a3",
   "metadata": {},
   "outputs": [],
   "source": [
    "imp_df = pd.DataFrame({\n",
    "    \"Varname\": X_train.columns,\n",
    "    \"Imp\": best_rf_model.feature_importances_\n",
    "})"
   ]
  },
  {
   "cell_type": "code",
   "execution_count": 123,
   "id": "c033e0bb",
   "metadata": {},
   "outputs": [
    {
     "name": "stdout",
     "output_type": "stream",
     "text": [
      "                        Varname       Imp\n",
      "9                CashbackAmount  0.095700\n",
      "0               WarehouseToHome  0.087306\n",
      "10                     Complain  0.078627\n",
      "8             DaySinceLastOrder  0.075570\n",
      "5   OrderAmountHikeFromlastYear  0.068109\n",
      "4               NumberOfAddress  0.066548\n",
      "3             SatisfactionScore  0.058927\n",
      "11                Tenure_1_2_Yr  0.047537\n",
      "7                    OrderCount  0.039451\n",
      "2      NumberOfDeviceRegistered  0.038715\n"
     ]
    }
   ],
   "source": [
    "top_10 = imp_df.sort_values(by=\"Imp\", ascending=False).head(10)\n",
    "print(top_10)"
   ]
  },
  {
   "cell_type": "markdown",
   "id": "2663a1e7",
   "metadata": {},
   "source": [
    "### Recommendations:\n",
    "i. CashbackAmount:The \"CashbackAmount\" feature is the most important feature in predicting the target variable. Paying attention to cashback offers and optimizing this aspect could significantly impact the target variable.\n",
    "\n",
    "ii.WarehouseToHome:Improving the efficiency and reliability of warehouse-to-home deliveries can have a substantial impact on the model's predictions.\n",
    "\n",
    "iii.Complain: Addressing customer complaints promptly and effectively can help improve the target variable's overall performance.\n",
    "\n",
    "iv.DaySinceLastOrder:It implies that customer engagement and activity (e.g., frequency of orders) are critical aspects to monitor and optimize.\n",
    "\n",
    "v. OrderAmountHikeFromlastYear:Understanding and managing changes in order amounts compared to the previous year can lead to valuable insights for the target variable.\n",
    "\n",
    "vi.NumberOfAddress: The number of addresses associated with a customer might provide valuable information for the target variable's predictions.\n",
    "\n",
    "vii.SatisfactionScore: Improving customer satisfaction can positively impact the predictions.\n",
    "\n",
    "viii.Tenure_1_2_Yr: The tenure of customers between 1 and 2 years can provide useful insights into the target variable.\n",
    "\n",
    "ix.NumberOfDeviceRegistered: The number of devices registered by customers might be relevant for predicting the target variable.\n",
    "\n",
    "x.OrderCount: The frequency of orders might have some impact on the target variable.\n"
   ]
  },
  {
   "cell_type": "markdown",
   "id": "1b5df22a",
   "metadata": {},
   "source": [
    "### *Model summary*\n",
    "\n",
    "#### Train set     \n",
    "Accuracy : 1.0                             \n",
    "F1 score : 1.0                           \n",
    "Recall   : 1.0                          \n",
    "Precision : 1.0                         \n",
    "\n",
    "#### Test set      \n",
    "Accuracy : 0.95               \n",
    "F1 score : 0.84           \n",
    "Recall : 0.76           \n",
    "Precision : 0.93       \n"
   ]
  },
  {
   "cell_type": "code",
   "execution_count": null,
   "id": "d0a7ad37",
   "metadata": {},
   "outputs": [],
   "source": []
  },
  {
   "cell_type": "code",
   "execution_count": null,
   "id": "fdbe1408",
   "metadata": {},
   "outputs": [],
   "source": []
  }
 ],
 "metadata": {
  "kernelspec": {
   "display_name": "Python 3 (ipykernel)",
   "language": "python",
   "name": "python3"
  },
  "language_info": {
   "codemirror_mode": {
    "name": "ipython",
    "version": 3
   },
   "file_extension": ".py",
   "mimetype": "text/x-python",
   "name": "python",
   "nbconvert_exporter": "python",
   "pygments_lexer": "ipython3",
   "version": "3.11.3"
  }
 },
 "nbformat": 4,
 "nbformat_minor": 5
}
